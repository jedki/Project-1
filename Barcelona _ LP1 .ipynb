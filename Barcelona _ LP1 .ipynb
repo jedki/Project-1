{
 "cells": [
  {
   "cell_type": "markdown",
   "id": "275dd548",
   "metadata": {},
   "source": [
    "# Dicovering Trends and Opportunities in the Indian Startup Ecosystem.\n"
   ]
  },
  {
   "cell_type": "markdown",
   "id": "fd1eb4c6",
   "metadata": {},
   "source": [
    "# Description"
   ]
  },
  {
   "cell_type": "markdown",
   "id": "139055b7",
   "metadata": {},
   "source": [
    "\n",
    "In this project, we are going to use Python to analyze and visualize industry data and \n",
    "identify key trends and opportunities in the Indian startup market. \n",
    "This analysis will cover funding trends, the geographic distribution of \n",
    "the start-ups,funding sources, and the industrial sector in which the start-ups operate. \n",
    "The insights gained from this project will help venture capitalists \n",
    "stay ahead of the curve and identify promising investment opportunities.\n"
   ]
  },
  {
   "cell_type": "markdown",
   "id": "8160be23",
   "metadata": {},
   "source": [
    "# Questions"
   ]
  },
  {
   "cell_type": "markdown",
   "id": "684824d3",
   "metadata": {},
   "source": [
    "\n",
    "1-What is the funding trend in the Indian start-up ecosystem over the past few years?\n",
    "\n",
    "2-Which sectors have received the most funding year on year?\n",
    "\n",
    "3-Who are the top investors and what initiatives do they typically invest in?\n",
    "\n",
    "4-Where are the start-ups located and in what industries?\n",
    "\n",
    "5-What is the performance of the Indian start-up ecosystem in terms of funding rounds, \n",
    "and how does this vary across the years?\n"
   ]
  },
  {
   "cell_type": "markdown",
   "id": "b3301765",
   "metadata": {},
   "source": [
    "# Hypothesis"
   ]
  },
  {
   "cell_type": "markdown",
   "id": "311b3eba",
   "metadata": {},
   "source": [
    "Hypothesis:\n",
    "The location of a start-up has an impact on the amount of funding it is able to secure.\n",
    "\n",
    "Null hypothesis:\n",
    "The location of a start-up has no significant influence on the amount of funding it raises.\n",
    "\n",
    "Alternate hypothesis:\n",
    "The location of a start-up significantly influences the amount of funding it raises.\n"
   ]
  },
  {
   "cell_type": "markdown",
   "id": "07b1e480",
   "metadata": {},
   "source": [
    "# INSTALLATION"
   ]
  },
  {
   "cell_type": "code",
   "execution_count": 1,
   "id": "62955839",
   "metadata": {},
   "outputs": [
    {
     "name": "stdout",
     "output_type": "stream",
     "text": [
      "Requirement already satisfied: jupyter-summarytools in c:\\program files\\python311\\lib\\site-packages (0.2.1)\n",
      "Requirement already satisfied: pandas>=1.4.0 in c:\\program files\\python311\\lib\\site-packages (from jupyter-summarytools) (1.5.3)\n",
      "Requirement already satisfied: ipython>=7.20.0 in c:\\program files\\python311\\lib\\site-packages (from jupyter-summarytools) (8.7.0)\n",
      "Requirement already satisfied: numpy>=1.18.5 in c:\\program files\\python311\\lib\\site-packages (from jupyter-summarytools) (1.24.2)\n",
      "Requirement already satisfied: matplotlib>=3.3.0 in c:\\program files\\python311\\lib\\site-packages (from jupyter-summarytools) (3.7.1)\n",
      "Requirement already satisfied: backcall in c:\\program files\\python311\\lib\\site-packages (from ipython>=7.20.0->jupyter-summarytools) (0.2.0)\n",
      "Requirement already satisfied: decorator in c:\\program files\\python311\\lib\\site-packages (from ipython>=7.20.0->jupyter-summarytools) (5.1.1)\n",
      "Requirement already satisfied: jedi>=0.16 in c:\\program files\\python311\\lib\\site-packages (from ipython>=7.20.0->jupyter-summarytools) (0.18.2)\n",
      "Requirement already satisfied: matplotlib-inline in c:\\program files\\python311\\lib\\site-packages (from ipython>=7.20.0->jupyter-summarytools) (0.1.6)\n",
      "Requirement already satisfied: pickleshare in c:\\program files\\python311\\lib\\site-packages (from ipython>=7.20.0->jupyter-summarytools) (0.7.5)\n",
      "Requirement already satisfied: prompt-toolkit<3.1.0,>=3.0.11 in c:\\program files\\python311\\lib\\site-packages (from ipython>=7.20.0->jupyter-summarytools) (3.0.36)\n",
      "Requirement already satisfied: pygments>=2.4.0 in c:\\program files\\python311\\lib\\site-packages (from ipython>=7.20.0->jupyter-summarytools) (2.13.0)\n",
      "Requirement already satisfied: stack-data in c:\\program files\\python311\\lib\\site-packages (from ipython>=7.20.0->jupyter-summarytools) (0.6.2)\n",
      "Requirement already satisfied: traitlets>=5 in c:\\program files\\python311\\lib\\site-packages (from ipython>=7.20.0->jupyter-summarytools) (5.7.0)\n",
      "Requirement already satisfied: colorama in c:\\program files\\python311\\lib\\site-packages (from ipython>=7.20.0->jupyter-summarytools) (0.4.6)\n",
      "Requirement already satisfied: contourpy>=1.0.1 in c:\\program files\\python311\\lib\\site-packages (from matplotlib>=3.3.0->jupyter-summarytools) (1.0.7)\n",
      "Requirement already satisfied: cycler>=0.10 in c:\\program files\\python311\\lib\\site-packages (from matplotlib>=3.3.0->jupyter-summarytools) (0.11.0)\n",
      "Requirement already satisfied: fonttools>=4.22.0 in c:\\program files\\python311\\lib\\site-packages (from matplotlib>=3.3.0->jupyter-summarytools) (4.39.0)\n",
      "Requirement already satisfied: kiwisolver>=1.0.1 in c:\\program files\\python311\\lib\\site-packages (from matplotlib>=3.3.0->jupyter-summarytools) (1.4.4)\n",
      "Requirement already satisfied: packaging>=20.0 in c:\\program files\\python311\\lib\\site-packages (from matplotlib>=3.3.0->jupyter-summarytools) (22.0)\n",
      "Requirement already satisfied: pillow>=6.2.0 in c:\\program files\\python311\\lib\\site-packages (from matplotlib>=3.3.0->jupyter-summarytools) (9.4.0)\n",
      "Requirement already satisfied: pyparsing>=2.3.1 in c:\\program files\\python311\\lib\\site-packages (from matplotlib>=3.3.0->jupyter-summarytools) (3.0.9)\n",
      "Requirement already satisfied: python-dateutil>=2.7 in c:\\program files\\python311\\lib\\site-packages (from matplotlib>=3.3.0->jupyter-summarytools) (2.8.2)\n",
      "Requirement already satisfied: pytz>=2020.1 in c:\\program files\\python311\\lib\\site-packages (from pandas>=1.4.0->jupyter-summarytools) (2022.7.1)\n",
      "Requirement already satisfied: parso<0.9.0,>=0.8.0 in c:\\program files\\python311\\lib\\site-packages (from jedi>=0.16->ipython>=7.20.0->jupyter-summarytools) (0.8.3)\n",
      "Requirement already satisfied: wcwidth in c:\\program files\\python311\\lib\\site-packages (from prompt-toolkit<3.1.0,>=3.0.11->ipython>=7.20.0->jupyter-summarytools) (0.2.5)\n",
      "Requirement already satisfied: six>=1.5 in c:\\program files\\python311\\lib\\site-packages (from python-dateutil>=2.7->matplotlib>=3.3.0->jupyter-summarytools) (1.16.0)\n",
      "Requirement already satisfied: executing>=1.2.0 in c:\\program files\\python311\\lib\\site-packages (from stack-data->ipython>=7.20.0->jupyter-summarytools) (1.2.0)\n",
      "Requirement already satisfied: asttokens>=2.1.0 in c:\\program files\\python311\\lib\\site-packages (from stack-data->ipython>=7.20.0->jupyter-summarytools) (2.2.1)\n",
      "Requirement already satisfied: pure-eval in c:\\program files\\python311\\lib\\site-packages (from stack-data->ipython>=7.20.0->jupyter-summarytools) (0.2.2)\n",
      "Note: you may need to restart the kernel to use updated packages.\n"
     ]
    },
    {
     "name": "stderr",
     "output_type": "stream",
     "text": [
      "\n",
      "[notice] A new release of pip available: 22.3.1 -> 23.1\n",
      "[notice] To update, run: python.exe -m pip install --upgrade pip\n"
     ]
    }
   ],
   "source": [
    "pip install jupyter-summarytools"
   ]
  },
  {
   "cell_type": "markdown",
   "id": "fc2bfcdc",
   "metadata": {},
   "source": [
    "# IMPORTING LIBRARIES"
   ]
  },
  {
   "cell_type": "code",
   "execution_count": 2,
   "id": "cff1b407",
   "metadata": {},
   "outputs": [],
   "source": [
    "# libraries to use\n",
    "import pandas as pd\n",
    "import numpy as np\n",
    "import seaborn as sns\n",
    "import matplotlib.pyplot as plt\n",
    "from summarytools import dfSummary\n",
    "import warnings\n",
    "from scipy.stats import f_oneway\n",
    "warnings.filterwarnings('ignore')\n",
    "# show floats to only 4 deicmal places\n",
    "pd.set_option('display.float_format', lambda x: '%0.4f' % x)\n"
   ]
  },
  {
   "cell_type": "markdown",
   "id": "f6a19236",
   "metadata": {},
   "source": [
    "# LOADING DATA "
   ]
  },
  {
   "cell_type": "markdown",
   "id": "e6cd9a26",
   "metadata": {},
   "source": [
    "<b> These loaded columns were restricted to only the ones that will enable us answer the questions above. </b>"
   ]
  },
  {
   "cell_type": "code",
   "execution_count": 3,
   "id": "a251ff25",
   "metadata": {},
   "outputs": [],
   "source": [
    "funding_18=pd.read_csv('startup_funding2018.csv', usecols=['Company Name','Location','Industry','Amount','Round/Series'])\n",
    "funding_19=pd.read_csv('startup_funding2019.csv', usecols=['Company/Brand','HeadQuarter','Sector','Investor','Amount($)','Stage'])\n",
    "funding_20=pd.read_csv('startup_funding2020.csv',usecols=['Company/Brand','HeadQuarter','Sector','Investor','Amount($)','Stage'])\n",
    "funding_21=pd.read_csv('startup_funding2021.csv', usecols=['Company/Brand','HeadQuarter','Sector','Investor','Amount($)','Stage'])"
   ]
  },
  {
   "cell_type": "markdown",
   "id": "42d8da7c",
   "metadata": {},
   "source": [
    " <b> EXPLORATORY DATA ANALYSIS:EDA </b>\n",
    "\n",
    "In this cleaning process, we inspect the datasets in depth year by year and column by column."
   ]
  },
  {
   "cell_type": "markdown",
   "id": "9e35699b",
   "metadata": {},
   "source": [
    "<b>2018 Dataset inspection and cleaning<b>"
   ]
  },
  {
   "cell_type": "code",
   "execution_count": 4,
   "id": "d94bceb7",
   "metadata": {},
   "outputs": [
    {
     "data": {
      "text/html": [
       "<div>\n",
       "<style scoped>\n",
       "    .dataframe tbody tr th:only-of-type {\n",
       "        vertical-align: middle;\n",
       "    }\n",
       "\n",
       "    .dataframe tbody tr th {\n",
       "        vertical-align: top;\n",
       "    }\n",
       "\n",
       "    .dataframe thead th {\n",
       "        text-align: right;\n",
       "    }\n",
       "</style>\n",
       "<table border=\"1\" class=\"dataframe\">\n",
       "  <thead>\n",
       "    <tr style=\"text-align: right;\">\n",
       "      <th></th>\n",
       "      <th>Company Name</th>\n",
       "      <th>Industry</th>\n",
       "      <th>Round/Series</th>\n",
       "      <th>Amount</th>\n",
       "      <th>Location</th>\n",
       "    </tr>\n",
       "  </thead>\n",
       "  <tbody>\n",
       "    <tr>\n",
       "      <th>0</th>\n",
       "      <td>TheCollegeFever</td>\n",
       "      <td>Brand Marketing, Event Promotion, Marketing, S...</td>\n",
       "      <td>Seed</td>\n",
       "      <td>250000</td>\n",
       "      <td>Bangalore, Karnataka, India</td>\n",
       "    </tr>\n",
       "    <tr>\n",
       "      <th>1</th>\n",
       "      <td>Happy Cow Dairy</td>\n",
       "      <td>Agriculture, Farming</td>\n",
       "      <td>Seed</td>\n",
       "      <td>₹40,000,000</td>\n",
       "      <td>Mumbai, Maharashtra, India</td>\n",
       "    </tr>\n",
       "    <tr>\n",
       "      <th>2</th>\n",
       "      <td>MyLoanCare</td>\n",
       "      <td>Credit, Financial Services, Lending, Marketplace</td>\n",
       "      <td>Series A</td>\n",
       "      <td>₹65,000,000</td>\n",
       "      <td>Gurgaon, Haryana, India</td>\n",
       "    </tr>\n",
       "    <tr>\n",
       "      <th>3</th>\n",
       "      <td>PayMe India</td>\n",
       "      <td>Financial Services, FinTech</td>\n",
       "      <td>Angel</td>\n",
       "      <td>2000000</td>\n",
       "      <td>Noida, Uttar Pradesh, India</td>\n",
       "    </tr>\n",
       "    <tr>\n",
       "      <th>4</th>\n",
       "      <td>Eunimart</td>\n",
       "      <td>E-Commerce Platforms, Retail, SaaS</td>\n",
       "      <td>Seed</td>\n",
       "      <td>—</td>\n",
       "      <td>Hyderabad, Andhra Pradesh, India</td>\n",
       "    </tr>\n",
       "  </tbody>\n",
       "</table>\n",
       "</div>"
      ],
      "text/plain": [
       "      Company Name                                           Industry  \\\n",
       "0  TheCollegeFever  Brand Marketing, Event Promotion, Marketing, S...   \n",
       "1  Happy Cow Dairy                               Agriculture, Farming   \n",
       "2       MyLoanCare   Credit, Financial Services, Lending, Marketplace   \n",
       "3      PayMe India                        Financial Services, FinTech   \n",
       "4         Eunimart                 E-Commerce Platforms, Retail, SaaS   \n",
       "\n",
       "  Round/Series       Amount                          Location  \n",
       "0         Seed       250000       Bangalore, Karnataka, India  \n",
       "1         Seed  ₹40,000,000        Mumbai, Maharashtra, India  \n",
       "2     Series A  ₹65,000,000           Gurgaon, Haryana, India  \n",
       "3        Angel      2000000       Noida, Uttar Pradesh, India  \n",
       "4         Seed            —  Hyderabad, Andhra Pradesh, India  "
      ]
     },
     "execution_count": 4,
     "metadata": {},
     "output_type": "execute_result"
    }
   ],
   "source": [
    "funding_18.head()"
   ]
  },
  {
   "cell_type": "code",
   "execution_count": 5,
   "id": "dc71393e",
   "metadata": {},
   "outputs": [],
   "source": [
    "# we will create a column in the datasets to represent the year represented by that particular dataset."
   ]
  },
  {
   "cell_type": "code",
   "execution_count": 6,
   "id": "8cbf6577",
   "metadata": {},
   "outputs": [],
   "source": [
    "funding_18['Year']='2018'\n",
    "funding_19['Year']='2019'\n",
    "funding_20['Year']='2020'\n",
    "funding_21['Year']='2021'\n"
   ]
  },
  {
   "cell_type": "code",
   "execution_count": 7,
   "id": "dc967150",
   "metadata": {},
   "outputs": [
    {
     "data": {
      "text/html": [
       "<button type=\"button\" class = \"st-collapsible\", \n",
       "    id = \"btn-1375\" onclick = \"coll_toggle_1375()\">Show Summary - funding_18</button>\n",
       "    <div class=\"st-content\" id=\"cont-1375\">\n",
       "      <style type=\"text/css\">\n",
       "#T_6caad thead>tr>th {\n",
       "  text-align: left;\n",
       "}\n",
       "#T_6caad_row0_col0, #T_6caad_row1_col0, #T_6caad_row2_col0, #T_6caad_row3_col0, #T_6caad_row4_col0, #T_6caad_row5_col0 {\n",
       "  text-align: left;\n",
       "  font-size: 12px;\n",
       "  vertical-align: middle;\n",
       "  width: 5%;\n",
       "  max-width: 50px;\n",
       "  min-width: 20px;\n",
       "}\n",
       "#T_6caad_row0_col1, #T_6caad_row1_col1, #T_6caad_row2_col1, #T_6caad_row3_col1, #T_6caad_row4_col1, #T_6caad_row5_col1 {\n",
       "  text-align: left;\n",
       "  font-size: 12px;\n",
       "  vertical-align: middle;\n",
       "  width: 15%;\n",
       "  max-width: 200px;\n",
       "  min-width: 100px;\n",
       "  word-break: break-word;\n",
       "}\n",
       "#T_6caad_row0_col2, #T_6caad_row1_col2, #T_6caad_row2_col2, #T_6caad_row3_col2, #T_6caad_row4_col2, #T_6caad_row5_col2 {\n",
       "  text-align: left;\n",
       "  font-size: 12px;\n",
       "  vertical-align: middle;\n",
       "  width: 30%;\n",
       "  min-width: 100px;\n",
       "}\n",
       "#T_6caad_row0_col3, #T_6caad_row1_col3, #T_6caad_row2_col3, #T_6caad_row3_col3, #T_6caad_row4_col3, #T_6caad_row5_col3 {\n",
       "  text-align: left;\n",
       "  font-size: 12px;\n",
       "  vertical-align: middle;\n",
       "  width: 25%;\n",
       "  min-width: 100px;\n",
       "}\n",
       "#T_6caad_row0_col4, #T_6caad_row1_col4, #T_6caad_row2_col4, #T_6caad_row3_col4, #T_6caad_row4_col4, #T_6caad_row5_col4 {\n",
       "  text-align: left;\n",
       "  font-size: 12px;\n",
       "  vertical-align: middle;\n",
       "  width: 20%;\n",
       "  min-width: 150px;\n",
       "}\n",
       "#T_6caad_row0_col5, #T_6caad_row1_col5, #T_6caad_row2_col5, #T_6caad_row3_col5, #T_6caad_row4_col5, #T_6caad_row5_col5 {\n",
       "  text-align: left;\n",
       "  font-size: 12px;\n",
       "  vertical-align: middle;\n",
       "  width: 10%;\n",
       "}\n",
       "</style>\n",
       "<table id=\"T_6caad\">\n",
       "  <caption><strong>Data Frame Summary</strong><br>funding_18<br>Dimensions: 526 x 6<br>Duplicates: 1</caption>\n",
       "  <thead>\n",
       "    <tr>\n",
       "      <th id=\"T_6caad_level0_col0\" class=\"col_heading level0 col0\" >No</th>\n",
       "      <th id=\"T_6caad_level0_col1\" class=\"col_heading level0 col1\" >Variable</th>\n",
       "      <th id=\"T_6caad_level0_col2\" class=\"col_heading level0 col2\" >Stats / Values</th>\n",
       "      <th id=\"T_6caad_level0_col3\" class=\"col_heading level0 col3\" >Freqs / (% of Valid)</th>\n",
       "      <th id=\"T_6caad_level0_col4\" class=\"col_heading level0 col4\" >Graph</th>\n",
       "      <th id=\"T_6caad_level0_col5\" class=\"col_heading level0 col5\" >Missing</th>\n",
       "    </tr>\n",
       "  </thead>\n",
       "  <tbody>\n",
       "    <tr>\n",
       "      <td id=\"T_6caad_row0_col0\" class=\"data row0 col0\" >1</td>\n",
       "      <td id=\"T_6caad_row0_col1\" class=\"data row0 col1\" ><strong>Company Name</strong><br>[object]</td>\n",
       "      <td id=\"T_6caad_row0_col2\" class=\"data row0 col2\" >1. TheCollegeFever<br>2. NIRAMAI Health Analytix<br>3. Drivezy<br>4. Hush - Speak Up. Make Work Bet<br>5. The Souled Store<br>6. Perspectico<br>7. Kogta Financial India Limited<br>8. Hospals<br>9. UrbanClap<br>10. Square Off<br>11. other</td>\n",
       "      <td id=\"T_6caad_row0_col3\" class=\"data row0 col3\" >2 (0.4%)<br>1 (0.2%)<br>1 (0.2%)<br>1 (0.2%)<br>1 (0.2%)<br>1 (0.2%)<br>1 (0.2%)<br>1 (0.2%)<br>1 (0.2%)<br>1 (0.2%)<br>515 (97.9%)</td>\n",
       "      <td id=\"T_6caad_row0_col4\" class=\"data row0 col4\" ><img src = \"tmp\\funding_18_000.png\"></img></td>\n",
       "      <td id=\"T_6caad_row0_col5\" class=\"data row0 col5\" >0<br>(0.0%)</td>\n",
       "    </tr>\n",
       "    <tr>\n",
       "      <td id=\"T_6caad_row1_col0\" class=\"data row1 col0\" >2</td>\n",
       "      <td id=\"T_6caad_row1_col1\" class=\"data row1 col1\" ><strong>Industry</strong><br>[object]</td>\n",
       "      <td id=\"T_6caad_row1_col2\" class=\"data row1 col2\" >1. —<br>2. Financial Services<br>3. Education<br>4. Information Technology<br>5. Health Care, Hospital<br>6. Finance, Financial Services<br>7. Fitness, Health Care, Wellness<br>8. Internet<br>9. Artificial Intelligence<br>10. Health Care<br>11. other</td>\n",
       "      <td id=\"T_6caad_row1_col3\" class=\"data row1 col3\" >30 (5.7%)<br>15 (2.9%)<br>8 (1.5%)<br>7 (1.3%)<br>5 (1.0%)<br>5 (1.0%)<br>4 (0.8%)<br>4 (0.8%)<br>4 (0.8%)<br>4 (0.8%)<br>440 (83.7%)</td>\n",
       "      <td id=\"T_6caad_row1_col4\" class=\"data row1 col4\" ><img src = \"tmp\\funding_18_001.png\"></img></td>\n",
       "      <td id=\"T_6caad_row1_col5\" class=\"data row1 col5\" >0<br>(0.0%)</td>\n",
       "    </tr>\n",
       "    <tr>\n",
       "      <td id=\"T_6caad_row2_col0\" class=\"data row2 col0\" >3</td>\n",
       "      <td id=\"T_6caad_row2_col1\" class=\"data row2 col1\" ><strong>Round/Series</strong><br>[object]</td>\n",
       "      <td id=\"T_6caad_row2_col2\" class=\"data row2 col2\" >1. Seed<br>2. Series A<br>3. Angel<br>4. Venture - Series Unknown<br>5. Series B<br>6. Series C<br>7. Debt Financing<br>8. Private Equity<br>9. Corporate Round<br>10. Pre-Seed<br>11. other</td>\n",
       "      <td id=\"T_6caad_row2_col3\" class=\"data row2 col3\" >280 (53.2%)<br>73 (13.9%)<br>37 (7.0%)<br>37 (7.0%)<br>20 (3.8%)<br>16 (3.0%)<br>13 (2.5%)<br>10 (1.9%)<br>8 (1.5%)<br>6 (1.1%)<br>26 (4.9%)</td>\n",
       "      <td id=\"T_6caad_row2_col4\" class=\"data row2 col4\" ><img src = \"tmp\\funding_18_002.png\"></img></td>\n",
       "      <td id=\"T_6caad_row2_col5\" class=\"data row2 col5\" >0<br>(0.0%)</td>\n",
       "    </tr>\n",
       "    <tr>\n",
       "      <td id=\"T_6caad_row3_col0\" class=\"data row3 col0\" >4</td>\n",
       "      <td id=\"T_6caad_row3_col1\" class=\"data row3 col1\" ><strong>Amount</strong><br>[object]</td>\n",
       "      <td id=\"T_6caad_row3_col2\" class=\"data row3 col2\" >1. —<br>2. 1000000<br>3. 500000<br>4. 2000000<br>5. ₹50,000,000<br>6. ₹20,000,000<br>7. 4000000<br>8. 5000000<br>9. 250000<br>10. ₹40,000,000<br>11. other</td>\n",
       "      <td id=\"T_6caad_row3_col3\" class=\"data row3 col3\" >148 (28.1%)<br>24 (4.6%)<br>13 (2.5%)<br>12 (2.3%)<br>9 (1.7%)<br>8 (1.5%)<br>7 (1.3%)<br>7 (1.3%)<br>6 (1.1%)<br>6 (1.1%)<br>286 (54.4%)</td>\n",
       "      <td id=\"T_6caad_row3_col4\" class=\"data row3 col4\" ><img src = \"tmp\\funding_18_003.png\"></img></td>\n",
       "      <td id=\"T_6caad_row3_col5\" class=\"data row3 col5\" >0<br>(0.0%)</td>\n",
       "    </tr>\n",
       "    <tr>\n",
       "      <td id=\"T_6caad_row4_col0\" class=\"data row4 col0\" >5</td>\n",
       "      <td id=\"T_6caad_row4_col1\" class=\"data row4 col1\" ><strong>Location</strong><br>[object]</td>\n",
       "      <td id=\"T_6caad_row4_col2\" class=\"data row4 col2\" >1. Bangalore, Karnataka, India<br>2. Mumbai, Maharashtra, India<br>3. Bengaluru, Karnataka, India<br>4. Gurgaon, Haryana, India<br>5. New Delhi, Delhi, India<br>6. Pune, Maharashtra, India<br>7. Chennai, Tamil Nadu, India<br>8. Hyderabad, Andhra Pradesh, Ind<br>9. Delhi, Delhi, India<br>10. Noida, Uttar Pradesh, India<br>11. other</td>\n",
       "      <td id=\"T_6caad_row4_col3\" class=\"data row4 col3\" >102 (19.4%)<br>94 (17.9%)<br>55 (10.5%)<br>52 (9.9%)<br>51 (9.7%)<br>20 (3.8%)<br>19 (3.6%)<br>18 (3.4%)<br>16 (3.0%)<br>15 (2.9%)<br>84 (16.0%)</td>\n",
       "      <td id=\"T_6caad_row4_col4\" class=\"data row4 col4\" ><img src = \"tmp\\funding_18_004.png\"></img></td>\n",
       "      <td id=\"T_6caad_row4_col5\" class=\"data row4 col5\" >0<br>(0.0%)</td>\n",
       "    </tr>\n",
       "    <tr>\n",
       "      <td id=\"T_6caad_row5_col0\" class=\"data row5 col0\" >6</td>\n",
       "      <td id=\"T_6caad_row5_col1\" class=\"data row5 col1\" ><strong>Year</strong><br>[object]</td>\n",
       "      <td id=\"T_6caad_row5_col2\" class=\"data row5 col2\" >1. 2018</td>\n",
       "      <td id=\"T_6caad_row5_col3\" class=\"data row5 col3\" >526 (100.0%)</td>\n",
       "      <td id=\"T_6caad_row5_col4\" class=\"data row5 col4\" ><img src = \"tmp\\funding_18_005.png\"></img></td>\n",
       "      <td id=\"T_6caad_row5_col5\" class=\"data row5 col5\" >0<br>(0.0%)</td>\n",
       "    </tr>\n",
       "  </tbody>\n",
       "</table>\n",
       "\n",
       "    </div>\n",
       "    <style>\n",
       "    .st-collapsible {\n",
       "      background-color: #eee;\n",
       "      color: #444;\n",
       "      cursor: pointer;\n",
       "      padding: 10px;\n",
       "      width: 100%;\n",
       "      border: none;\n",
       "      text-align: left;\n",
       "      outline: none;\n",
       "      font-size: 14px;\n",
       "      border-radius: 0.5rem;\n",
       "    }\n",
       "\n",
       "    .active .st-collapsible:hover {\n",
       "      background-color: #ccc;\n",
       "    }\n",
       "\n",
       "    .st-content {\n",
       "      padding: 0 10px;\n",
       "      background-color: white;\n",
       "      max-height: 0;\n",
       "      overflow: hidden;\n",
       "      transition: max-height 0.2s ease-out;\n",
       "    }\n",
       "\n",
       "    .st-collapsible:after {\n",
       "      content: '+'; /* Unicode character for \"plus\" sign (+) */\n",
       "      color: #444;\n",
       "      font-weight: bold;\n",
       "      float: right;\n",
       "      margin-left: 5px;\n",
       "    }\n",
       "\n",
       "    .active:after {\n",
       "      content: '-';\n",
       "    }\n",
       "    </style><script>\n",
       "    function coll_toggle_1375(){\n",
       "        var coll = document.getElementById(\"btn-1375\");\n",
       "        var content = document.getElementById(\"cont-1375\");\n",
       "        coll.classList.toggle(\"active\");\n",
       "        if (content.style.maxHeight){\n",
       "          content.style.maxHeight = null;\n",
       "          coll.innerHTML = \"Show Summary - funding_18\";\n",
       "        } else {\n",
       "          content.style.maxHeight = content.scrollHeight + \"px\";\n",
       "          coll.innerHTML = \"Hide Summary - funding_18\";\n",
       "        }\n",
       "    }  \n",
       "\n",
       "    </script>"
      ],
      "text/plain": [
       "<IPython.core.display.HTML object>"
      ]
     },
     "execution_count": 7,
     "metadata": {},
     "output_type": "execute_result"
    }
   ],
   "source": [
    "dfSummary(funding_18, is_collapsible = True)"
   ]
  },
  {
   "cell_type": "markdown",
   "id": "5c3b02ff",
   "metadata": {},
   "source": [
    "Issues identified with the 2018 datasets\n",
    "    \n",
    "-The location column lists the city, state and country name. This would have to be stripped to only the city name.\n",
    "    \n",
    "-2018 dataset does not have a column for investors, this will have to created to aid the analysis.\n",
    "    \n",
    "-We made changes to some of the columns in order for it to correspond with 2019,2020 and 2021.\n"
   ]
  },
  {
   "cell_type": "markdown",
   "id": "7c450ab7",
   "metadata": {},
   "source": [
    "<b>THE SPECIFIC ISSUES RELATED TO 2018 DATASET IS DEALT WITH BEFORE IT WAS INTEGRATED WITH THE OTHER DATASET FOR WHOLISTIC INSPECTION AND CLEANING.</b>"
   ]
  },
  {
   "cell_type": "code",
   "execution_count": 8,
   "id": "b4cfd60b",
   "metadata": {},
   "outputs": [
    {
     "data": {
      "text/html": [
       "<div>\n",
       "<style scoped>\n",
       "    .dataframe tbody tr th:only-of-type {\n",
       "        vertical-align: middle;\n",
       "    }\n",
       "\n",
       "    .dataframe tbody tr th {\n",
       "        vertical-align: top;\n",
       "    }\n",
       "\n",
       "    .dataframe thead th {\n",
       "        text-align: right;\n",
       "    }\n",
       "</style>\n",
       "<table border=\"1\" class=\"dataframe\">\n",
       "  <thead>\n",
       "    <tr style=\"text-align: right;\">\n",
       "      <th></th>\n",
       "      <th>Company/Brand</th>\n",
       "      <th>Sector</th>\n",
       "      <th>Stage</th>\n",
       "      <th>Amount($)</th>\n",
       "      <th>HeadQuarter</th>\n",
       "      <th>Year</th>\n",
       "    </tr>\n",
       "  </thead>\n",
       "  <tbody>\n",
       "    <tr>\n",
       "      <th>0</th>\n",
       "      <td>TheCollegeFever</td>\n",
       "      <td>Brand Marketing, Event Promotion, Marketing, S...</td>\n",
       "      <td>Seed</td>\n",
       "      <td>250000</td>\n",
       "      <td>Bangalore, Karnataka, India</td>\n",
       "      <td>2018</td>\n",
       "    </tr>\n",
       "    <tr>\n",
       "      <th>1</th>\n",
       "      <td>Happy Cow Dairy</td>\n",
       "      <td>Agriculture, Farming</td>\n",
       "      <td>Seed</td>\n",
       "      <td>₹40,000,000</td>\n",
       "      <td>Mumbai, Maharashtra, India</td>\n",
       "      <td>2018</td>\n",
       "    </tr>\n",
       "    <tr>\n",
       "      <th>2</th>\n",
       "      <td>MyLoanCare</td>\n",
       "      <td>Credit, Financial Services, Lending, Marketplace</td>\n",
       "      <td>Series A</td>\n",
       "      <td>₹65,000,000</td>\n",
       "      <td>Gurgaon, Haryana, India</td>\n",
       "      <td>2018</td>\n",
       "    </tr>\n",
       "    <tr>\n",
       "      <th>3</th>\n",
       "      <td>PayMe India</td>\n",
       "      <td>Financial Services, FinTech</td>\n",
       "      <td>Angel</td>\n",
       "      <td>2000000</td>\n",
       "      <td>Noida, Uttar Pradesh, India</td>\n",
       "      <td>2018</td>\n",
       "    </tr>\n",
       "    <tr>\n",
       "      <th>4</th>\n",
       "      <td>Eunimart</td>\n",
       "      <td>E-Commerce Platforms, Retail, SaaS</td>\n",
       "      <td>Seed</td>\n",
       "      <td>—</td>\n",
       "      <td>Hyderabad, Andhra Pradesh, India</td>\n",
       "      <td>2018</td>\n",
       "    </tr>\n",
       "  </tbody>\n",
       "</table>\n",
       "</div>"
      ],
      "text/plain": [
       "     Company/Brand                                             Sector  \\\n",
       "0  TheCollegeFever  Brand Marketing, Event Promotion, Marketing, S...   \n",
       "1  Happy Cow Dairy                               Agriculture, Farming   \n",
       "2       MyLoanCare   Credit, Financial Services, Lending, Marketplace   \n",
       "3      PayMe India                        Financial Services, FinTech   \n",
       "4         Eunimart                 E-Commerce Platforms, Retail, SaaS   \n",
       "\n",
       "      Stage    Amount($)                       HeadQuarter  Year  \n",
       "0      Seed       250000       Bangalore, Karnataka, India  2018  \n",
       "1      Seed  ₹40,000,000        Mumbai, Maharashtra, India  2018  \n",
       "2  Series A  ₹65,000,000           Gurgaon, Haryana, India  2018  \n",
       "3     Angel      2000000       Noida, Uttar Pradesh, India  2018  \n",
       "4      Seed            —  Hyderabad, Andhra Pradesh, India  2018  "
      ]
     },
     "execution_count": 8,
     "metadata": {},
     "output_type": "execute_result"
    }
   ],
   "source": [
    "# Harmonizing the 2018 dataset columns to match the other three datasets\n",
    "funding_18.columns=['Company/Brand','Sector','Stage','Amount($)','HeadQuarter','Year']\n",
    "\n",
    "funding_18.head()"
   ]
  },
  {
   "cell_type": "markdown",
   "id": "daa41a4e",
   "metadata": {},
   "source": [
    "# SECTOR COLUMN\n",
    "\n",
    "Our aim is to retain only the first description as shown in the sector column as its own column then drop the rest."
   ]
  },
  {
   "cell_type": "code",
   "execution_count": 9,
   "id": "9e4bbcd8",
   "metadata": {},
   "outputs": [
    {
     "data": {
      "text/html": [
       "<div>\n",
       "<style scoped>\n",
       "    .dataframe tbody tr th:only-of-type {\n",
       "        vertical-align: middle;\n",
       "    }\n",
       "\n",
       "    .dataframe tbody tr th {\n",
       "        vertical-align: top;\n",
       "    }\n",
       "\n",
       "    .dataframe thead th {\n",
       "        text-align: right;\n",
       "    }\n",
       "</style>\n",
       "<table border=\"1\" class=\"dataframe\">\n",
       "  <thead>\n",
       "    <tr style=\"text-align: right;\">\n",
       "      <th></th>\n",
       "      <th>Company/Brand</th>\n",
       "      <th>Sector</th>\n",
       "      <th>Stage</th>\n",
       "      <th>Amount($)</th>\n",
       "      <th>HeadQuarter</th>\n",
       "      <th>Year</th>\n",
       "      <th>industry1</th>\n",
       "    </tr>\n",
       "  </thead>\n",
       "  <tbody>\n",
       "    <tr>\n",
       "      <th>0</th>\n",
       "      <td>TheCollegeFever</td>\n",
       "      <td>Brand Marketing, Event Promotion, Marketing, S...</td>\n",
       "      <td>Seed</td>\n",
       "      <td>250000</td>\n",
       "      <td>Bangalore, Karnataka, India</td>\n",
       "      <td>2018</td>\n",
       "      <td>Brand Marketing</td>\n",
       "    </tr>\n",
       "    <tr>\n",
       "      <th>1</th>\n",
       "      <td>Happy Cow Dairy</td>\n",
       "      <td>Agriculture, Farming</td>\n",
       "      <td>Seed</td>\n",
       "      <td>₹40,000,000</td>\n",
       "      <td>Mumbai, Maharashtra, India</td>\n",
       "      <td>2018</td>\n",
       "      <td>Agriculture</td>\n",
       "    </tr>\n",
       "    <tr>\n",
       "      <th>2</th>\n",
       "      <td>MyLoanCare</td>\n",
       "      <td>Credit, Financial Services, Lending, Marketplace</td>\n",
       "      <td>Series A</td>\n",
       "      <td>₹65,000,000</td>\n",
       "      <td>Gurgaon, Haryana, India</td>\n",
       "      <td>2018</td>\n",
       "      <td>Credit</td>\n",
       "    </tr>\n",
       "    <tr>\n",
       "      <th>3</th>\n",
       "      <td>PayMe India</td>\n",
       "      <td>Financial Services, FinTech</td>\n",
       "      <td>Angel</td>\n",
       "      <td>2000000</td>\n",
       "      <td>Noida, Uttar Pradesh, India</td>\n",
       "      <td>2018</td>\n",
       "      <td>Financial Services</td>\n",
       "    </tr>\n",
       "    <tr>\n",
       "      <th>4</th>\n",
       "      <td>Eunimart</td>\n",
       "      <td>E-Commerce Platforms, Retail, SaaS</td>\n",
       "      <td>Seed</td>\n",
       "      <td>—</td>\n",
       "      <td>Hyderabad, Andhra Pradesh, India</td>\n",
       "      <td>2018</td>\n",
       "      <td>E-Commerce Platforms</td>\n",
       "    </tr>\n",
       "    <tr>\n",
       "      <th>...</th>\n",
       "      <td>...</td>\n",
       "      <td>...</td>\n",
       "      <td>...</td>\n",
       "      <td>...</td>\n",
       "      <td>...</td>\n",
       "      <td>...</td>\n",
       "      <td>...</td>\n",
       "    </tr>\n",
       "    <tr>\n",
       "      <th>521</th>\n",
       "      <td>Udaan</td>\n",
       "      <td>B2B, Business Development, Internet, Marketplace</td>\n",
       "      <td>Series C</td>\n",
       "      <td>225000000</td>\n",
       "      <td>Bangalore, Karnataka, India</td>\n",
       "      <td>2018</td>\n",
       "      <td>B2B</td>\n",
       "    </tr>\n",
       "    <tr>\n",
       "      <th>522</th>\n",
       "      <td>Happyeasygo Group</td>\n",
       "      <td>Tourism, Travel</td>\n",
       "      <td>Series A</td>\n",
       "      <td>—</td>\n",
       "      <td>Haryana, Haryana, India</td>\n",
       "      <td>2018</td>\n",
       "      <td>Tourism</td>\n",
       "    </tr>\n",
       "    <tr>\n",
       "      <th>523</th>\n",
       "      <td>Mombay</td>\n",
       "      <td>Food and Beverage, Food Delivery, Internet</td>\n",
       "      <td>Seed</td>\n",
       "      <td>7500</td>\n",
       "      <td>Mumbai, Maharashtra, India</td>\n",
       "      <td>2018</td>\n",
       "      <td>Food and Beverage</td>\n",
       "    </tr>\n",
       "    <tr>\n",
       "      <th>524</th>\n",
       "      <td>Droni Tech</td>\n",
       "      <td>Information Technology</td>\n",
       "      <td>Seed</td>\n",
       "      <td>₹35,000,000</td>\n",
       "      <td>Mumbai, Maharashtra, India</td>\n",
       "      <td>2018</td>\n",
       "      <td>Information Technology</td>\n",
       "    </tr>\n",
       "    <tr>\n",
       "      <th>525</th>\n",
       "      <td>Netmeds</td>\n",
       "      <td>Biotechnology, Health Care, Pharmaceutical</td>\n",
       "      <td>Series C</td>\n",
       "      <td>35000000</td>\n",
       "      <td>Chennai, Tamil Nadu, India</td>\n",
       "      <td>2018</td>\n",
       "      <td>Biotechnology</td>\n",
       "    </tr>\n",
       "  </tbody>\n",
       "</table>\n",
       "<p>526 rows × 7 columns</p>\n",
       "</div>"
      ],
      "text/plain": [
       "         Company/Brand                                             Sector  \\\n",
       "0      TheCollegeFever  Brand Marketing, Event Promotion, Marketing, S...   \n",
       "1      Happy Cow Dairy                               Agriculture, Farming   \n",
       "2           MyLoanCare   Credit, Financial Services, Lending, Marketplace   \n",
       "3          PayMe India                        Financial Services, FinTech   \n",
       "4             Eunimart                 E-Commerce Platforms, Retail, SaaS   \n",
       "..                 ...                                                ...   \n",
       "521              Udaan   B2B, Business Development, Internet, Marketplace   \n",
       "522  Happyeasygo Group                                    Tourism, Travel   \n",
       "523             Mombay         Food and Beverage, Food Delivery, Internet   \n",
       "524         Droni Tech                             Information Technology   \n",
       "525            Netmeds         Biotechnology, Health Care, Pharmaceutical   \n",
       "\n",
       "        Stage    Amount($)                       HeadQuarter  Year  \\\n",
       "0        Seed       250000       Bangalore, Karnataka, India  2018   \n",
       "1        Seed  ₹40,000,000        Mumbai, Maharashtra, India  2018   \n",
       "2    Series A  ₹65,000,000           Gurgaon, Haryana, India  2018   \n",
       "3       Angel      2000000       Noida, Uttar Pradesh, India  2018   \n",
       "4        Seed            —  Hyderabad, Andhra Pradesh, India  2018   \n",
       "..        ...          ...                               ...   ...   \n",
       "521  Series C    225000000       Bangalore, Karnataka, India  2018   \n",
       "522  Series A            —           Haryana, Haryana, India  2018   \n",
       "523      Seed         7500        Mumbai, Maharashtra, India  2018   \n",
       "524      Seed  ₹35,000,000        Mumbai, Maharashtra, India  2018   \n",
       "525  Series C     35000000        Chennai, Tamil Nadu, India  2018   \n",
       "\n",
       "                  industry1  \n",
       "0           Brand Marketing  \n",
       "1               Agriculture  \n",
       "2                    Credit  \n",
       "3        Financial Services  \n",
       "4      E-Commerce Platforms  \n",
       "..                      ...  \n",
       "521                     B2B  \n",
       "522                 Tourism  \n",
       "523       Food and Beverage  \n",
       "524  Information Technology  \n",
       "525           Biotechnology  \n",
       "\n",
       "[526 rows x 7 columns]"
      ]
     },
     "execution_count": 9,
     "metadata": {},
     "output_type": "execute_result"
    }
   ],
   "source": [
    "df_18=funding_18['Sector'].str.split(pat=',', n=1, expand=True)\n",
    "funding_18['industry1']=df_18[0]\n",
    "\n",
    "funding_18"
   ]
  },
  {
   "cell_type": "code",
   "execution_count": 10,
   "id": "0d0a639b",
   "metadata": {},
   "outputs": [],
   "source": [
    "funding_18.drop('Sector', axis=1, inplace=True)\n"
   ]
  },
  {
   "cell_type": "code",
   "execution_count": 11,
   "id": "85731f48",
   "metadata": {},
   "outputs": [
    {
     "data": {
      "text/html": [
       "<div>\n",
       "<style scoped>\n",
       "    .dataframe tbody tr th:only-of-type {\n",
       "        vertical-align: middle;\n",
       "    }\n",
       "\n",
       "    .dataframe tbody tr th {\n",
       "        vertical-align: top;\n",
       "    }\n",
       "\n",
       "    .dataframe thead th {\n",
       "        text-align: right;\n",
       "    }\n",
       "</style>\n",
       "<table border=\"1\" class=\"dataframe\">\n",
       "  <thead>\n",
       "    <tr style=\"text-align: right;\">\n",
       "      <th></th>\n",
       "      <th>Company/Brand</th>\n",
       "      <th>Stage</th>\n",
       "      <th>Amount($)</th>\n",
       "      <th>HeadQuarter</th>\n",
       "      <th>Year</th>\n",
       "      <th>Sector</th>\n",
       "    </tr>\n",
       "  </thead>\n",
       "  <tbody>\n",
       "    <tr>\n",
       "      <th>0</th>\n",
       "      <td>TheCollegeFever</td>\n",
       "      <td>Seed</td>\n",
       "      <td>250000</td>\n",
       "      <td>Bangalore, Karnataka, India</td>\n",
       "      <td>2018</td>\n",
       "      <td>Brand Marketing</td>\n",
       "    </tr>\n",
       "    <tr>\n",
       "      <th>1</th>\n",
       "      <td>Happy Cow Dairy</td>\n",
       "      <td>Seed</td>\n",
       "      <td>₹40,000,000</td>\n",
       "      <td>Mumbai, Maharashtra, India</td>\n",
       "      <td>2018</td>\n",
       "      <td>Agriculture</td>\n",
       "    </tr>\n",
       "    <tr>\n",
       "      <th>2</th>\n",
       "      <td>MyLoanCare</td>\n",
       "      <td>Series A</td>\n",
       "      <td>₹65,000,000</td>\n",
       "      <td>Gurgaon, Haryana, India</td>\n",
       "      <td>2018</td>\n",
       "      <td>Credit</td>\n",
       "    </tr>\n",
       "    <tr>\n",
       "      <th>3</th>\n",
       "      <td>PayMe India</td>\n",
       "      <td>Angel</td>\n",
       "      <td>2000000</td>\n",
       "      <td>Noida, Uttar Pradesh, India</td>\n",
       "      <td>2018</td>\n",
       "      <td>Financial Services</td>\n",
       "    </tr>\n",
       "    <tr>\n",
       "      <th>4</th>\n",
       "      <td>Eunimart</td>\n",
       "      <td>Seed</td>\n",
       "      <td>—</td>\n",
       "      <td>Hyderabad, Andhra Pradesh, India</td>\n",
       "      <td>2018</td>\n",
       "      <td>E-Commerce Platforms</td>\n",
       "    </tr>\n",
       "    <tr>\n",
       "      <th>...</th>\n",
       "      <td>...</td>\n",
       "      <td>...</td>\n",
       "      <td>...</td>\n",
       "      <td>...</td>\n",
       "      <td>...</td>\n",
       "      <td>...</td>\n",
       "    </tr>\n",
       "    <tr>\n",
       "      <th>521</th>\n",
       "      <td>Udaan</td>\n",
       "      <td>Series C</td>\n",
       "      <td>225000000</td>\n",
       "      <td>Bangalore, Karnataka, India</td>\n",
       "      <td>2018</td>\n",
       "      <td>B2B</td>\n",
       "    </tr>\n",
       "    <tr>\n",
       "      <th>522</th>\n",
       "      <td>Happyeasygo Group</td>\n",
       "      <td>Series A</td>\n",
       "      <td>—</td>\n",
       "      <td>Haryana, Haryana, India</td>\n",
       "      <td>2018</td>\n",
       "      <td>Tourism</td>\n",
       "    </tr>\n",
       "    <tr>\n",
       "      <th>523</th>\n",
       "      <td>Mombay</td>\n",
       "      <td>Seed</td>\n",
       "      <td>7500</td>\n",
       "      <td>Mumbai, Maharashtra, India</td>\n",
       "      <td>2018</td>\n",
       "      <td>Food and Beverage</td>\n",
       "    </tr>\n",
       "    <tr>\n",
       "      <th>524</th>\n",
       "      <td>Droni Tech</td>\n",
       "      <td>Seed</td>\n",
       "      <td>₹35,000,000</td>\n",
       "      <td>Mumbai, Maharashtra, India</td>\n",
       "      <td>2018</td>\n",
       "      <td>Information Technology</td>\n",
       "    </tr>\n",
       "    <tr>\n",
       "      <th>525</th>\n",
       "      <td>Netmeds</td>\n",
       "      <td>Series C</td>\n",
       "      <td>35000000</td>\n",
       "      <td>Chennai, Tamil Nadu, India</td>\n",
       "      <td>2018</td>\n",
       "      <td>Biotechnology</td>\n",
       "    </tr>\n",
       "  </tbody>\n",
       "</table>\n",
       "<p>526 rows × 6 columns</p>\n",
       "</div>"
      ],
      "text/plain": [
       "         Company/Brand     Stage    Amount($)  \\\n",
       "0      TheCollegeFever      Seed       250000   \n",
       "1      Happy Cow Dairy      Seed  ₹40,000,000   \n",
       "2           MyLoanCare  Series A  ₹65,000,000   \n",
       "3          PayMe India     Angel      2000000   \n",
       "4             Eunimart      Seed            —   \n",
       "..                 ...       ...          ...   \n",
       "521              Udaan  Series C    225000000   \n",
       "522  Happyeasygo Group  Series A            —   \n",
       "523             Mombay      Seed         7500   \n",
       "524         Droni Tech      Seed  ₹35,000,000   \n",
       "525            Netmeds  Series C     35000000   \n",
       "\n",
       "                          HeadQuarter  Year                  Sector  \n",
       "0         Bangalore, Karnataka, India  2018         Brand Marketing  \n",
       "1          Mumbai, Maharashtra, India  2018             Agriculture  \n",
       "2             Gurgaon, Haryana, India  2018                  Credit  \n",
       "3         Noida, Uttar Pradesh, India  2018      Financial Services  \n",
       "4    Hyderabad, Andhra Pradesh, India  2018    E-Commerce Platforms  \n",
       "..                                ...   ...                     ...  \n",
       "521       Bangalore, Karnataka, India  2018                     B2B  \n",
       "522           Haryana, Haryana, India  2018                 Tourism  \n",
       "523        Mumbai, Maharashtra, India  2018       Food and Beverage  \n",
       "524        Mumbai, Maharashtra, India  2018  Information Technology  \n",
       "525        Chennai, Tamil Nadu, India  2018           Biotechnology  \n",
       "\n",
       "[526 rows x 6 columns]"
      ]
     },
     "execution_count": 11,
     "metadata": {},
     "output_type": "execute_result"
    }
   ],
   "source": [
    "funding_18=funding_18.rename(columns={'industry1':'Sector'})\n",
    "funding_18"
   ]
  },
  {
   "cell_type": "markdown",
   "id": "8c1f75db",
   "metadata": {},
   "source": [
    "# HEADQUARTER COLUMN"
   ]
  },
  {
   "cell_type": "markdown",
   "id": "6ae1f22c",
   "metadata": {},
   "source": [
    "<b> The objective is to strip the city name from the string under the HeadQuarter </b>"
   ]
  },
  {
   "cell_type": "code",
   "execution_count": 12,
   "id": "68587e4c",
   "metadata": {},
   "outputs": [
    {
     "data": {
      "text/html": [
       "<div>\n",
       "<style scoped>\n",
       "    .dataframe tbody tr th:only-of-type {\n",
       "        vertical-align: middle;\n",
       "    }\n",
       "\n",
       "    .dataframe tbody tr th {\n",
       "        vertical-align: top;\n",
       "    }\n",
       "\n",
       "    .dataframe thead th {\n",
       "        text-align: right;\n",
       "    }\n",
       "</style>\n",
       "<table border=\"1\" class=\"dataframe\">\n",
       "  <thead>\n",
       "    <tr style=\"text-align: right;\">\n",
       "      <th></th>\n",
       "      <th>Company/Brand</th>\n",
       "      <th>Stage</th>\n",
       "      <th>Amount($)</th>\n",
       "      <th>HeadQuarter</th>\n",
       "      <th>Year</th>\n",
       "      <th>Sector</th>\n",
       "      <th>location</th>\n",
       "    </tr>\n",
       "  </thead>\n",
       "  <tbody>\n",
       "    <tr>\n",
       "      <th>0</th>\n",
       "      <td>TheCollegeFever</td>\n",
       "      <td>Seed</td>\n",
       "      <td>250000</td>\n",
       "      <td>Bangalore, Karnataka, India</td>\n",
       "      <td>2018</td>\n",
       "      <td>Brand Marketing</td>\n",
       "      <td>Bangalore</td>\n",
       "    </tr>\n",
       "    <tr>\n",
       "      <th>1</th>\n",
       "      <td>Happy Cow Dairy</td>\n",
       "      <td>Seed</td>\n",
       "      <td>₹40,000,000</td>\n",
       "      <td>Mumbai, Maharashtra, India</td>\n",
       "      <td>2018</td>\n",
       "      <td>Agriculture</td>\n",
       "      <td>Mumbai</td>\n",
       "    </tr>\n",
       "    <tr>\n",
       "      <th>2</th>\n",
       "      <td>MyLoanCare</td>\n",
       "      <td>Series A</td>\n",
       "      <td>₹65,000,000</td>\n",
       "      <td>Gurgaon, Haryana, India</td>\n",
       "      <td>2018</td>\n",
       "      <td>Credit</td>\n",
       "      <td>Gurgaon</td>\n",
       "    </tr>\n",
       "    <tr>\n",
       "      <th>3</th>\n",
       "      <td>PayMe India</td>\n",
       "      <td>Angel</td>\n",
       "      <td>2000000</td>\n",
       "      <td>Noida, Uttar Pradesh, India</td>\n",
       "      <td>2018</td>\n",
       "      <td>Financial Services</td>\n",
       "      <td>Noida</td>\n",
       "    </tr>\n",
       "    <tr>\n",
       "      <th>4</th>\n",
       "      <td>Eunimart</td>\n",
       "      <td>Seed</td>\n",
       "      <td>—</td>\n",
       "      <td>Hyderabad, Andhra Pradesh, India</td>\n",
       "      <td>2018</td>\n",
       "      <td>E-Commerce Platforms</td>\n",
       "      <td>Hyderabad</td>\n",
       "    </tr>\n",
       "    <tr>\n",
       "      <th>...</th>\n",
       "      <td>...</td>\n",
       "      <td>...</td>\n",
       "      <td>...</td>\n",
       "      <td>...</td>\n",
       "      <td>...</td>\n",
       "      <td>...</td>\n",
       "      <td>...</td>\n",
       "    </tr>\n",
       "    <tr>\n",
       "      <th>521</th>\n",
       "      <td>Udaan</td>\n",
       "      <td>Series C</td>\n",
       "      <td>225000000</td>\n",
       "      <td>Bangalore, Karnataka, India</td>\n",
       "      <td>2018</td>\n",
       "      <td>B2B</td>\n",
       "      <td>Bangalore</td>\n",
       "    </tr>\n",
       "    <tr>\n",
       "      <th>522</th>\n",
       "      <td>Happyeasygo Group</td>\n",
       "      <td>Series A</td>\n",
       "      <td>—</td>\n",
       "      <td>Haryana, Haryana, India</td>\n",
       "      <td>2018</td>\n",
       "      <td>Tourism</td>\n",
       "      <td>Haryana</td>\n",
       "    </tr>\n",
       "    <tr>\n",
       "      <th>523</th>\n",
       "      <td>Mombay</td>\n",
       "      <td>Seed</td>\n",
       "      <td>7500</td>\n",
       "      <td>Mumbai, Maharashtra, India</td>\n",
       "      <td>2018</td>\n",
       "      <td>Food and Beverage</td>\n",
       "      <td>Mumbai</td>\n",
       "    </tr>\n",
       "    <tr>\n",
       "      <th>524</th>\n",
       "      <td>Droni Tech</td>\n",
       "      <td>Seed</td>\n",
       "      <td>₹35,000,000</td>\n",
       "      <td>Mumbai, Maharashtra, India</td>\n",
       "      <td>2018</td>\n",
       "      <td>Information Technology</td>\n",
       "      <td>Mumbai</td>\n",
       "    </tr>\n",
       "    <tr>\n",
       "      <th>525</th>\n",
       "      <td>Netmeds</td>\n",
       "      <td>Series C</td>\n",
       "      <td>35000000</td>\n",
       "      <td>Chennai, Tamil Nadu, India</td>\n",
       "      <td>2018</td>\n",
       "      <td>Biotechnology</td>\n",
       "      <td>Chennai</td>\n",
       "    </tr>\n",
       "  </tbody>\n",
       "</table>\n",
       "<p>526 rows × 7 columns</p>\n",
       "</div>"
      ],
      "text/plain": [
       "         Company/Brand     Stage    Amount($)  \\\n",
       "0      TheCollegeFever      Seed       250000   \n",
       "1      Happy Cow Dairy      Seed  ₹40,000,000   \n",
       "2           MyLoanCare  Series A  ₹65,000,000   \n",
       "3          PayMe India     Angel      2000000   \n",
       "4             Eunimart      Seed            —   \n",
       "..                 ...       ...          ...   \n",
       "521              Udaan  Series C    225000000   \n",
       "522  Happyeasygo Group  Series A            —   \n",
       "523             Mombay      Seed         7500   \n",
       "524         Droni Tech      Seed  ₹35,000,000   \n",
       "525            Netmeds  Series C     35000000   \n",
       "\n",
       "                          HeadQuarter  Year                  Sector   location  \n",
       "0         Bangalore, Karnataka, India  2018         Brand Marketing  Bangalore  \n",
       "1          Mumbai, Maharashtra, India  2018             Agriculture     Mumbai  \n",
       "2             Gurgaon, Haryana, India  2018                  Credit    Gurgaon  \n",
       "3         Noida, Uttar Pradesh, India  2018      Financial Services      Noida  \n",
       "4    Hyderabad, Andhra Pradesh, India  2018    E-Commerce Platforms  Hyderabad  \n",
       "..                                ...   ...                     ...        ...  \n",
       "521       Bangalore, Karnataka, India  2018                     B2B  Bangalore  \n",
       "522           Haryana, Haryana, India  2018                 Tourism    Haryana  \n",
       "523        Mumbai, Maharashtra, India  2018       Food and Beverage     Mumbai  \n",
       "524        Mumbai, Maharashtra, India  2018  Information Technology     Mumbai  \n",
       "525        Chennai, Tamil Nadu, India  2018           Biotechnology    Chennai  \n",
       "\n",
       "[526 rows x 7 columns]"
      ]
     },
     "execution_count": 12,
     "metadata": {},
     "output_type": "execute_result"
    }
   ],
   "source": [
    "funding18=funding_18['HeadQuarter'].str.split(pat=',', n=1, expand=True)\n",
    "funding_18['location']=funding18[0]\n",
    "\n",
    "funding_18"
   ]
  },
  {
   "cell_type": "code",
   "execution_count": 13,
   "id": "b40ff742",
   "metadata": {},
   "outputs": [
    {
     "data": {
      "text/html": [
       "<div>\n",
       "<style scoped>\n",
       "    .dataframe tbody tr th:only-of-type {\n",
       "        vertical-align: middle;\n",
       "    }\n",
       "\n",
       "    .dataframe tbody tr th {\n",
       "        vertical-align: top;\n",
       "    }\n",
       "\n",
       "    .dataframe thead th {\n",
       "        text-align: right;\n",
       "    }\n",
       "</style>\n",
       "<table border=\"1\" class=\"dataframe\">\n",
       "  <thead>\n",
       "    <tr style=\"text-align: right;\">\n",
       "      <th></th>\n",
       "      <th>Company/Brand</th>\n",
       "      <th>Stage</th>\n",
       "      <th>Amount($)</th>\n",
       "      <th>Year</th>\n",
       "      <th>Sector</th>\n",
       "      <th>location</th>\n",
       "    </tr>\n",
       "  </thead>\n",
       "  <tbody>\n",
       "    <tr>\n",
       "      <th>0</th>\n",
       "      <td>TheCollegeFever</td>\n",
       "      <td>Seed</td>\n",
       "      <td>250000</td>\n",
       "      <td>2018</td>\n",
       "      <td>Brand Marketing</td>\n",
       "      <td>Bangalore</td>\n",
       "    </tr>\n",
       "    <tr>\n",
       "      <th>1</th>\n",
       "      <td>Happy Cow Dairy</td>\n",
       "      <td>Seed</td>\n",
       "      <td>₹40,000,000</td>\n",
       "      <td>2018</td>\n",
       "      <td>Agriculture</td>\n",
       "      <td>Mumbai</td>\n",
       "    </tr>\n",
       "    <tr>\n",
       "      <th>2</th>\n",
       "      <td>MyLoanCare</td>\n",
       "      <td>Series A</td>\n",
       "      <td>₹65,000,000</td>\n",
       "      <td>2018</td>\n",
       "      <td>Credit</td>\n",
       "      <td>Gurgaon</td>\n",
       "    </tr>\n",
       "    <tr>\n",
       "      <th>3</th>\n",
       "      <td>PayMe India</td>\n",
       "      <td>Angel</td>\n",
       "      <td>2000000</td>\n",
       "      <td>2018</td>\n",
       "      <td>Financial Services</td>\n",
       "      <td>Noida</td>\n",
       "    </tr>\n",
       "    <tr>\n",
       "      <th>4</th>\n",
       "      <td>Eunimart</td>\n",
       "      <td>Seed</td>\n",
       "      <td>—</td>\n",
       "      <td>2018</td>\n",
       "      <td>E-Commerce Platforms</td>\n",
       "      <td>Hyderabad</td>\n",
       "    </tr>\n",
       "    <tr>\n",
       "      <th>...</th>\n",
       "      <td>...</td>\n",
       "      <td>...</td>\n",
       "      <td>...</td>\n",
       "      <td>...</td>\n",
       "      <td>...</td>\n",
       "      <td>...</td>\n",
       "    </tr>\n",
       "    <tr>\n",
       "      <th>521</th>\n",
       "      <td>Udaan</td>\n",
       "      <td>Series C</td>\n",
       "      <td>225000000</td>\n",
       "      <td>2018</td>\n",
       "      <td>B2B</td>\n",
       "      <td>Bangalore</td>\n",
       "    </tr>\n",
       "    <tr>\n",
       "      <th>522</th>\n",
       "      <td>Happyeasygo Group</td>\n",
       "      <td>Series A</td>\n",
       "      <td>—</td>\n",
       "      <td>2018</td>\n",
       "      <td>Tourism</td>\n",
       "      <td>Haryana</td>\n",
       "    </tr>\n",
       "    <tr>\n",
       "      <th>523</th>\n",
       "      <td>Mombay</td>\n",
       "      <td>Seed</td>\n",
       "      <td>7500</td>\n",
       "      <td>2018</td>\n",
       "      <td>Food and Beverage</td>\n",
       "      <td>Mumbai</td>\n",
       "    </tr>\n",
       "    <tr>\n",
       "      <th>524</th>\n",
       "      <td>Droni Tech</td>\n",
       "      <td>Seed</td>\n",
       "      <td>₹35,000,000</td>\n",
       "      <td>2018</td>\n",
       "      <td>Information Technology</td>\n",
       "      <td>Mumbai</td>\n",
       "    </tr>\n",
       "    <tr>\n",
       "      <th>525</th>\n",
       "      <td>Netmeds</td>\n",
       "      <td>Series C</td>\n",
       "      <td>35000000</td>\n",
       "      <td>2018</td>\n",
       "      <td>Biotechnology</td>\n",
       "      <td>Chennai</td>\n",
       "    </tr>\n",
       "  </tbody>\n",
       "</table>\n",
       "<p>526 rows × 6 columns</p>\n",
       "</div>"
      ],
      "text/plain": [
       "         Company/Brand     Stage    Amount($)  Year                  Sector  \\\n",
       "0      TheCollegeFever      Seed       250000  2018         Brand Marketing   \n",
       "1      Happy Cow Dairy      Seed  ₹40,000,000  2018             Agriculture   \n",
       "2           MyLoanCare  Series A  ₹65,000,000  2018                  Credit   \n",
       "3          PayMe India     Angel      2000000  2018      Financial Services   \n",
       "4             Eunimart      Seed            —  2018    E-Commerce Platforms   \n",
       "..                 ...       ...          ...   ...                     ...   \n",
       "521              Udaan  Series C    225000000  2018                     B2B   \n",
       "522  Happyeasygo Group  Series A            —  2018                 Tourism   \n",
       "523             Mombay      Seed         7500  2018       Food and Beverage   \n",
       "524         Droni Tech      Seed  ₹35,000,000  2018  Information Technology   \n",
       "525            Netmeds  Series C     35000000  2018           Biotechnology   \n",
       "\n",
       "      location  \n",
       "0    Bangalore  \n",
       "1       Mumbai  \n",
       "2      Gurgaon  \n",
       "3        Noida  \n",
       "4    Hyderabad  \n",
       "..         ...  \n",
       "521  Bangalore  \n",
       "522    Haryana  \n",
       "523     Mumbai  \n",
       "524     Mumbai  \n",
       "525    Chennai  \n",
       "\n",
       "[526 rows x 6 columns]"
      ]
     },
     "execution_count": 13,
     "metadata": {},
     "output_type": "execute_result"
    }
   ],
   "source": [
    "funding_18.drop('HeadQuarter', axis=1, inplace=True)\n",
    "funding_18"
   ]
  },
  {
   "cell_type": "code",
   "execution_count": 14,
   "id": "0a40ce63",
   "metadata": {},
   "outputs": [],
   "source": [
    "funding_18=funding_18.rename(columns={'location':'HeadQuarter'})"
   ]
  },
  {
   "cell_type": "markdown",
   "id": "aa707491",
   "metadata": {},
   "source": [
    "# MERGING THE FOUR DATASETS\n",
    "\n",
    "The four datasets have been combined into a single dataFrame called df_startup. The individual columns in this new DataFrame will inspected and cleaned. Only six relevant columns are in this new DataFrame, they are Company/Brand,Stage,Amount,Sector,Headquarter and Investor."
   ]
  },
  {
   "cell_type": "code",
   "execution_count": 15,
   "id": "b8aacbe2",
   "metadata": {},
   "outputs": [],
   "source": [
    "df_startup=pd.concat([funding_18,funding_19,funding_20,funding_21],ignore_index=True)\n",
    "\n",
    "pd.set_option('display.max_rows', None)\n",
    "pd.set_option('display.max_columns', None)"
   ]
  },
  {
   "cell_type": "code",
   "execution_count": 16,
   "id": "073fcfbd",
   "metadata": {
    "scrolled": true
   },
   "outputs": [
    {
     "data": {
      "text/html": [
       "<div>\n",
       "<style scoped>\n",
       "    .dataframe tbody tr th:only-of-type {\n",
       "        vertical-align: middle;\n",
       "    }\n",
       "\n",
       "    .dataframe tbody tr th {\n",
       "        vertical-align: top;\n",
       "    }\n",
       "\n",
       "    .dataframe thead th {\n",
       "        text-align: right;\n",
       "    }\n",
       "</style>\n",
       "<table border=\"1\" class=\"dataframe\">\n",
       "  <thead>\n",
       "    <tr style=\"text-align: right;\">\n",
       "      <th></th>\n",
       "      <th>Company/Brand</th>\n",
       "      <th>Stage</th>\n",
       "      <th>Amount($)</th>\n",
       "      <th>Year</th>\n",
       "      <th>Sector</th>\n",
       "      <th>HeadQuarter</th>\n",
       "      <th>Investor</th>\n",
       "    </tr>\n",
       "  </thead>\n",
       "  <tbody>\n",
       "    <tr>\n",
       "      <th>0</th>\n",
       "      <td>TheCollegeFever</td>\n",
       "      <td>Seed</td>\n",
       "      <td>250000</td>\n",
       "      <td>2018</td>\n",
       "      <td>Brand Marketing</td>\n",
       "      <td>Bangalore</td>\n",
       "      <td>NaN</td>\n",
       "    </tr>\n",
       "    <tr>\n",
       "      <th>1</th>\n",
       "      <td>Happy Cow Dairy</td>\n",
       "      <td>Seed</td>\n",
       "      <td>₹40,000,000</td>\n",
       "      <td>2018</td>\n",
       "      <td>Agriculture</td>\n",
       "      <td>Mumbai</td>\n",
       "      <td>NaN</td>\n",
       "    </tr>\n",
       "    <tr>\n",
       "      <th>2</th>\n",
       "      <td>MyLoanCare</td>\n",
       "      <td>Series A</td>\n",
       "      <td>₹65,000,000</td>\n",
       "      <td>2018</td>\n",
       "      <td>Credit</td>\n",
       "      <td>Gurgaon</td>\n",
       "      <td>NaN</td>\n",
       "    </tr>\n",
       "    <tr>\n",
       "      <th>3</th>\n",
       "      <td>PayMe India</td>\n",
       "      <td>Angel</td>\n",
       "      <td>2000000</td>\n",
       "      <td>2018</td>\n",
       "      <td>Financial Services</td>\n",
       "      <td>Noida</td>\n",
       "      <td>NaN</td>\n",
       "    </tr>\n",
       "    <tr>\n",
       "      <th>4</th>\n",
       "      <td>Eunimart</td>\n",
       "      <td>Seed</td>\n",
       "      <td>—</td>\n",
       "      <td>2018</td>\n",
       "      <td>E-Commerce Platforms</td>\n",
       "      <td>Hyderabad</td>\n",
       "      <td>NaN</td>\n",
       "    </tr>\n",
       "  </tbody>\n",
       "</table>\n",
       "</div>"
      ],
      "text/plain": [
       "     Company/Brand     Stage    Amount($)  Year                Sector  \\\n",
       "0  TheCollegeFever      Seed       250000  2018       Brand Marketing   \n",
       "1  Happy Cow Dairy      Seed  ₹40,000,000  2018           Agriculture   \n",
       "2       MyLoanCare  Series A  ₹65,000,000  2018                Credit   \n",
       "3      PayMe India     Angel      2000000  2018    Financial Services   \n",
       "4         Eunimart      Seed            —  2018  E-Commerce Platforms   \n",
       "\n",
       "  HeadQuarter Investor  \n",
       "0   Bangalore      NaN  \n",
       "1      Mumbai      NaN  \n",
       "2     Gurgaon      NaN  \n",
       "3       Noida      NaN  \n",
       "4   Hyderabad      NaN  "
      ]
     },
     "execution_count": 16,
     "metadata": {},
     "output_type": "execute_result"
    }
   ],
   "source": [
    "df_startup.head()"
   ]
  },
  {
   "cell_type": "markdown",
   "id": "4ae85e2b",
   "metadata": {},
   "source": [
    "# ISSUES IDENTIFIED WITH THE NEW DATAFRAME THAT NEEDS TO BE ADDRESSED."
   ]
  },
  {
   "cell_type": "markdown",
   "id": "27028b9c",
   "metadata": {},
   "source": [
    "\n",
    "-In the Stage column some of the stages are spelt slighty differently, these need to be harmonised to a single spelling.\n",
    "\n",
    "-Some of the HeadQuarter names are a combination of city,state and country names. These have to be stripped leaving only the city name.\n",
    "\n",
    "-In the Sector column, same sectors are spelt differently for different companies.\n",
    "\n",
    "-The new DataFrame df_startup has 25 duplicate entries.\n",
    "\n",
    "-The Amount column is presented in an object datatype this has to be transformed into a float.\n",
    "\n",
    "-The Amount column is represented in Indian Rupees, US dollars, figures with no designated currency symbol. This has to hamonized.\n"
   ]
  },
  {
   "cell_type": "markdown",
   "id": "62fc8a4c",
   "metadata": {},
   "source": [
    "# CHECK FOR DUPLICATE ENTRIES IN THE NEW DATASET df_startup"
   ]
  },
  {
   "cell_type": "code",
   "execution_count": 17,
   "id": "cbda077a",
   "metadata": {},
   "outputs": [
    {
     "data": {
      "text/plain": [
       "False    2854\n",
       "True       25\n",
       "dtype: int64"
      ]
     },
     "execution_count": 17,
     "metadata": {},
     "output_type": "execute_result"
    }
   ],
   "source": [
    "# LOOKING OUT FOR DUPLICATES\n",
    "\n",
    "df_startup.duplicated().value_counts()"
   ]
  },
  {
   "cell_type": "code",
   "execution_count": 18,
   "id": "f919bead",
   "metadata": {},
   "outputs": [],
   "source": [
    "# DROP THE DUPLICATES ENTRIES WHILST MAINTAINING THE INTEGRITY OF THE ORIGINAL DATAFRAME\n",
    "\n",
    "df_startup.drop_duplicates(keep='first', inplace=True)"
   ]
  },
  {
   "cell_type": "code",
   "execution_count": 19,
   "id": "97e62d08",
   "metadata": {},
   "outputs": [
    {
     "data": {
      "text/plain": [
       "False    2854\n",
       "dtype: int64"
      ]
     },
     "execution_count": 19,
     "metadata": {},
     "output_type": "execute_result"
    }
   ],
   "source": [
    "#CONFIRM THERE ARE NO DUPLICATE ENTRIES IN THE DATAFRAME df_startup\n",
    "\n",
    "df_startup.duplicated().value_counts()"
   ]
  },
  {
   "cell_type": "markdown",
   "id": "a839137d",
   "metadata": {},
   "source": [
    "# STAGE COLUMN."
   ]
  },
  {
   "cell_type": "markdown",
   "id": "e4e127f5",
   "metadata": {},
   "source": [
    "# Harmonising the column entries."
   ]
  },
  {
   "cell_type": "code",
   "execution_count": 20,
   "id": "650e756d",
   "metadata": {},
   "outputs": [],
   "source": [
    "df_startup.replace(to_replace=['Seed round','Seed funding','Early seed','Seed fund','Seed Investment','Seed Round','Seed+'], value='Seed', inplace=True)\n",
    "df_startup.replace(to_replace=['Debt Financing'], value='Debt', inplace=True)\n",
    "df_startup.replace(to_replace=['Venture - Series Unknown'], value='Undisclosed', inplace=True)\n",
    "df_startup.replace(to_replace=['Angel Round'], value='Angel', inplace=True)\n",
    "df_startup.replace(to_replace=['Pre-Series B','Pre-series B'], value='Pre series B', inplace=True)\n",
    "df_startup.replace(to_replace=['Pre-seed'], value='Pre Seed', inplace=True)\n",
    "df_startup.replace(to_replace=['Seis A'], value='Series A', inplace=True)"
   ]
  },
  {
   "cell_type": "markdown",
   "id": "5268e0bc",
   "metadata": {},
   "source": [
    "# Drop those Rows that are not important."
   ]
  },
  {
   "cell_type": "code",
   "execution_count": 21,
   "id": "b0a8a4a1",
   "metadata": {},
   "outputs": [],
   "source": [
    "df_startup.drop([178,1768,2208,2221,2244,2247], inplace=True)"
   ]
  },
  {
   "cell_type": "markdown",
   "id": "a534159b",
   "metadata": {},
   "source": [
    "# We replace NaN in the Stage Column with Undisclosed."
   ]
  },
  {
   "cell_type": "code",
   "execution_count": 22,
   "id": "f63a9b94",
   "metadata": {},
   "outputs": [],
   "source": [
    "df_startup.Stage.fillna('Undisclosed', inplace=True)\n"
   ]
  },
  {
   "cell_type": "markdown",
   "id": "19100fe6",
   "metadata": {},
   "source": [
    "# SECTOR COLUMN\n",
    "\n",
    "What we did was to harmonise the sectors to make them consistent. Some sectors were spelt slightly differently, which implied they were grouped differently."
   ]
  },
  {
   "cell_type": "code",
   "execution_count": 23,
   "id": "2cf0f147",
   "metadata": {},
   "outputs": [],
   "source": [
    "df_startup.replace(to_replace=['Fintech'], value='FinTech', inplace=True)\n",
    "df_startup.replace(to_replace=['EdTech Startup','Edtech','EdtTech'], value='EdTech', inplace=True)\n",
    "df_startup.replace(to_replace=['Insurance','Banking','Credit','Consumer Lending','Accounting','Finance company','Finance','Capital Markets','Venture Capital & Private Equity','Venture capital',], value='Financial Services', inplace=True)\n",
    "df_startup.replace(to_replace=['E-Commerce','Ecommerce','Social e-commerce','E-marketplace'], value='E-commerce', inplace=True)\n",
    "df_startup.replace(to_replace=['Automotive & Rentals','Automobiles'], value='Automotive', inplace=True)\n",
    "df_startup.replace(to_replace=['Agritech','B2B Agritech'], value='AgriTech', inplace=True)\n",
    "df_startup.replace(to_replace=['Food and Beverage','Beverages','Beverage'], value='Food & Beverages', inplace=True)\n",
    "df_startup.replace(to_replace=['Logistics & Supply Chain'], value='Logistics', inplace=True)\n",
    "df_startup.replace(to_replace=['Information Technology & Services','Tech','Internet','IT'], value='Information Technology', inplace=True)\n",
    "df_startup.replace(to_replace=['Gaming startup','Computer Games'], value='Gaming', inplace=True)\n",
    "df_startup.replace(to_replace=['HealthCare','Health Care','Health,Wellness & Fitness','Fitness','Hospital & Health Care','Health','Fitness startup','Health Care','Yoga & wellness','Health & Wellness','Helath care','Healthcare','Health Diagnostics','Heathcare'], value='Healthcare', inplace=True)\n",
    "df_startup.replace(to_replace=['HealthTech'], value='Healthtech', inplace=True)\n",
    "df_startup.replace(to_replace=['SaaS startup','SaaS platform'], value='SaaS', inplace=True)\n",
    "df_startup.replace(to_replace=['FMCG'], value='Consumer Goods', inplace=True)\n",
    "df_startup.replace(to_replace=['Online Media'], value='Media', inplace=True)\n",
    "df_startup.replace(to_replace=['Retail startup','Consumer'], value='Retail', inplace=True)\n",
    "df_startup.replace(to_replace=['Apps','Tech Company','Technology','Information Services','Tech startup'], value='Tech Startup', inplace=True)\n",
    "df_startup.replace(to_replace=['AI','Artificial Intelligence','AI Company','AI startup'], value='AI Startup', inplace=True)\n",
    "df_startup.replace(to_replace=['Computer softwre','Software','Computer','Software Startup','Software Startup'], value='Computer Software', inplace=True)\n",
    "df_startup.replace(to_replace=['Apparel & Fashion','Fashion startup'], value='Fashion', inplace=True)\n",
    "df_startup.replace(to_replace=['B2B Service','B2B marketplace','B2B Ecommerce','B2B E-commerce','B2B startup','B2B service'], value='B2B', inplace=True)\n",
    "df_startup.replace(to_replace=['Food','Foodtech','Food tech'], value='FoodTech', inplace=True)\n",
    "df_startup.replace(to_replace=['Internet of Things'], value='IoT', inplace=True)\n",
    "df_startup.replace(to_replace=['Farming'], value='Agriculture', inplace=True)\n",
    "df_startup.replace(to_replace=['Deeptech'], value='DeepTech', inplace=True)\n",
    "df_startup.replace(to_replace=['Insuretech','Insurance technology'], value='InsureTech', inplace=True)\n",
    "df_startup.replace(to_replace=['Rental space'], value='Rental', inplace=True)\n",
    "df_startup.replace(to_replace=['Food Delivery','Delivery Service'], value='Delivery', inplace=True)\n",
    "df_startup.replace(to_replace=['Marketing & Advertising','Brand Marketing','Market Research','Marketing startup'], value='Marketing', inplace=True)\n",
    "df_startup.replace(to_replace=['Biotechnology'], value='BioTechnology', inplace=True)\n",
    "df_startup.replace(to_replace=['Cleantech'], value='CleanTech', inplace=True)\n",
    "df_startup.replace(to_replace=['Crypto'], value='Cryptocurrency', inplace=True)\n",
    "df_startup.replace(to_replace=['Interior design'], value='Interior Design', inplace=True)"
   ]
  },
  {
   "cell_type": "markdown",
   "id": "72923cde",
   "metadata": {},
   "source": [
    "# HEADQUARTER COLUMN"
   ]
  },
  {
   "cell_type": "markdown",
   "id": "72005716",
   "metadata": {},
   "source": [
    "ISSUES PERTAINING TO THE HEADQUARTER COLUMN:\n",
    "    \n",
    "-Names of the same locations are spelt differently.\n",
    "       \n",
    "-Some locations are districts of already listed cities.\n",
    "\n",
    "-Some locations listed are outside India.\n",
    "    \n",
    "-Some of the locations listed are States in India instead of cities which are relevant for the analysis."
   ]
  },
  {
   "cell_type": "markdown",
   "id": "ddafa95d",
   "metadata": {},
   "source": [
    "# Replacing the names of the HeadQuarter with the right ones."
   ]
  },
  {
   "cell_type": "code",
   "execution_count": 24,
   "id": "d3464ed5",
   "metadata": {},
   "outputs": [],
   "source": [
    "df_startup.replace(to_replace=['Bangalore City','Bangalore'], value='Bengaluru', inplace=True)\n",
    "df_startup.replace(to_replace=['New Delhi','Azadpor'], value='Delhi', inplace=True)\n",
    "df_startup.replace(to_replace=['Ahmadabad'], value='Ahmedabad', inplace=True)\n",
    "df_startup.replace(to_replace=['Kochi'], value='Cochin', inplace=True)\n",
    "df_startup.replace(to_replace=['Kormangala'], value='Koramangala', inplace=True)\n",
    "df_startup.replace(to_replace=['Jaipur, Rajastan'], value='Jaipur', inplace=True)\n",
    "df_startup.replace(to_replace=['Faridabad, Haryana'], value='Faridabad', inplace=True)\n",
    "df_startup.replace(to_replace=['Powai','Worli'], value='Mumbai', inplace=True)\n",
    "df_startup.replace(to_replace=['Small Towns, Andhra Pradesh'], value='Andhra Pradesh', inplace=True)\n",
    "df_startup.replace(to_replace=['Hyderebad'], value='Hyderabad', inplace=True)\n",
    "df_startup.replace(to_replace=['Gurugram\\t#REF!'], value='Gurugram', inplace=True)\n",
    "df_startup.replace(to_replace=['Orissia'], value='Orissa', inplace=True)\n",
    "df_startup.replace(to_replace=['Samstipur','Samastipur, Bihar','Samsitpur'], value='Samastipur', inplace=True)\n",
    "df_startup.replace(to_replace=['The Nilgiris'], value='Nilgiris', inplace=True)\n",
    "df_startup.replace(to_replace=['Dhindsara, Haryana','Dhingsara, Haryana'], value='Dhingsara', inplace=True)\n",
    "df_startup.replace(to_replace=['Tirunelveli, Tamilnadu'], value='Tirunelveli', inplace=True)\n",
    "df_startup.replace(to_replace=['Mylapore'], value='Chennai', inplace=True)\n",
    "df_startup.replace(to_replace=['Rajastan'], value='Rajasthan', inplace=True)\n",
    "df_startup.replace(to_replace=['Trivandrum, Kerala, India'], value='Trivandrum', inplace=True)\n",
    "df_startup.replace(to_replace=['Mangalore'], value='Mangaluru', inplace=True)\n",
    "df_startup.replace(to_replace=['Tumkur, Karnataka'], value='Tumkur', inplace=True)\n",
    "\n"
   ]
  },
  {
   "cell_type": "markdown",
   "id": "cd7fe5a7",
   "metadata": {},
   "source": [
    "# Now we drop the HeadQuarter Entries that are not important for the analysis"
   ]
  },
  {
   "cell_type": "code",
   "execution_count": 25,
   "id": "ef484569",
   "metadata": {},
   "outputs": [],
   "source": [
    "df_startup.drop([42,59,706,781,791,801,838,840,844,845,847,855,860,875,876,877,879,880,888,889,894,902,907,915,916,918,921,932,984,988,999,1001,1003,1005,1006,1012,1014,1015,1035,1072,1073,1074,1098,1911,1912,2422,2571,2590,2770,2843,2846,854,1028,1071,1080,1087,1927,2215,2347,2807,2816,2818,2344], inplace=True)"
   ]
  },
  {
   "cell_type": "markdown",
   "id": "41cb63e5",
   "metadata": {},
   "source": [
    "# AMOUNT COLUMN"
   ]
  },
  {
   "cell_type": "markdown",
   "id": "d6aa67c2",
   "metadata": {},
   "source": [
    "<b>Harmonise entries<b>"
   ]
  },
  {
   "cell_type": "code",
   "execution_count": 26,
   "id": "7bf039d2",
   "metadata": {},
   "outputs": [],
   "source": [
    "df_startup.replace(to_replace=['$Undisclosed','$undisclosed'], value='Undisclosed', inplace=True)"
   ]
  },
  {
   "cell_type": "code",
   "execution_count": 27,
   "id": "bf4540ec",
   "metadata": {},
   "outputs": [],
   "source": [
    "# The rupees symbol is removed and converted to US Dollars."
   ]
  },
  {
   "cell_type": "code",
   "execution_count": 28,
   "id": "af4c9cd0",
   "metadata": {},
   "outputs": [],
   "source": [
    "#2018 Exchange rate Rupee to a Dollar.\n",
    "exchange_rate = 68.14\n",
    "\n",
    "def rupee_to_dollar(amount):\n",
    "    if isinstance(amount, str) and amount.startswith('₹'):\n",
    "        amount = float(amount.replace(',', '')[1:]) * exchange_rate\n",
    "        return f'${amount:.2f}'\n",
    "    else:\n",
    "        return amount\n",
    "\n",
    "# remove rupee sign and comma, and convert to dollar equivalent\n",
    "df_startup['Amount($)'] = df_startup['Amount($)'].apply(lambda x: rupee_to_dollar(x))"
   ]
  },
  {
   "cell_type": "code",
   "execution_count": 29,
   "id": "45160a81",
   "metadata": {},
   "outputs": [],
   "source": [
    "df_startup['Amount($)'] = df_startup['Amount($)'].str.replace('$', '').str.replace(',', '').replace(['—', 'Undisclosed','Undiclosed','Undiclsosed','Undislosed'], np.nan).astype(float)"
   ]
  },
  {
   "cell_type": "markdown",
   "id": "7d617f1b",
   "metadata": {},
   "source": [
    "# Handling NaN entries in the Amount column using interpolate."
   ]
  },
  {
   "cell_type": "code",
   "execution_count": 30,
   "id": "a102e7e5",
   "metadata": {},
   "outputs": [
    {
     "data": {
      "text/html": [
       "<div>\n",
       "<style scoped>\n",
       "    .dataframe tbody tr th:only-of-type {\n",
       "        vertical-align: middle;\n",
       "    }\n",
       "\n",
       "    .dataframe tbody tr th {\n",
       "        vertical-align: top;\n",
       "    }\n",
       "\n",
       "    .dataframe thead th {\n",
       "        text-align: right;\n",
       "    }\n",
       "</style>\n",
       "<table border=\"1\" class=\"dataframe\">\n",
       "  <thead>\n",
       "    <tr style=\"text-align: right;\">\n",
       "      <th></th>\n",
       "      <th>Company/Brand</th>\n",
       "      <th>Stage</th>\n",
       "      <th>Amount($)</th>\n",
       "      <th>Year</th>\n",
       "      <th>Sector</th>\n",
       "      <th>HeadQuarter</th>\n",
       "      <th>Investor</th>\n",
       "    </tr>\n",
       "  </thead>\n",
       "  <tbody>\n",
       "    <tr>\n",
       "      <th>0</th>\n",
       "      <td>TheCollegeFever</td>\n",
       "      <td>Seed</td>\n",
       "      <td>250000.0000</td>\n",
       "      <td>2018</td>\n",
       "      <td>Marketing</td>\n",
       "      <td>Bengaluru</td>\n",
       "      <td>NaN</td>\n",
       "    </tr>\n",
       "    <tr>\n",
       "      <th>1</th>\n",
       "      <td>Happy Cow Dairy</td>\n",
       "      <td>Seed</td>\n",
       "      <td>2725600000.0000</td>\n",
       "      <td>2018</td>\n",
       "      <td>Agriculture</td>\n",
       "      <td>Mumbai</td>\n",
       "      <td>NaN</td>\n",
       "    </tr>\n",
       "    <tr>\n",
       "      <th>2</th>\n",
       "      <td>MyLoanCare</td>\n",
       "      <td>Series A</td>\n",
       "      <td>4429100000.0000</td>\n",
       "      <td>2018</td>\n",
       "      <td>Financial Services</td>\n",
       "      <td>Gurgaon</td>\n",
       "      <td>NaN</td>\n",
       "    </tr>\n",
       "    <tr>\n",
       "      <th>3</th>\n",
       "      <td>PayMe India</td>\n",
       "      <td>Angel</td>\n",
       "      <td>2000000.0000</td>\n",
       "      <td>2018</td>\n",
       "      <td>Financial Services</td>\n",
       "      <td>Noida</td>\n",
       "      <td>NaN</td>\n",
       "    </tr>\n",
       "    <tr>\n",
       "      <th>4</th>\n",
       "      <td>Eunimart</td>\n",
       "      <td>Seed</td>\n",
       "      <td>NaN</td>\n",
       "      <td>2018</td>\n",
       "      <td>E-Commerce Platforms</td>\n",
       "      <td>Hyderabad</td>\n",
       "      <td>NaN</td>\n",
       "    </tr>\n",
       "  </tbody>\n",
       "</table>\n",
       "</div>"
      ],
      "text/plain": [
       "     Company/Brand     Stage       Amount($)  Year                Sector  \\\n",
       "0  TheCollegeFever      Seed     250000.0000  2018             Marketing   \n",
       "1  Happy Cow Dairy      Seed 2725600000.0000  2018           Agriculture   \n",
       "2       MyLoanCare  Series A 4429100000.0000  2018    Financial Services   \n",
       "3      PayMe India     Angel    2000000.0000  2018    Financial Services   \n",
       "4         Eunimart      Seed             NaN  2018  E-Commerce Platforms   \n",
       "\n",
       "  HeadQuarter Investor  \n",
       "0   Bengaluru      NaN  \n",
       "1      Mumbai      NaN  \n",
       "2     Gurgaon      NaN  \n",
       "3       Noida      NaN  \n",
       "4   Hyderabad      NaN  "
      ]
     },
     "execution_count": 30,
     "metadata": {},
     "output_type": "execute_result"
    }
   ],
   "source": [
    "#df_startup['Amount($)']=df_startup['Amount($)'].interpolate(method='Linear')\n",
    "#df_startup['Amount($)']\n",
    "\n",
    "df_startup.head()"
   ]
  },
  {
   "cell_type": "markdown",
   "id": "74f337c1",
   "metadata": {},
   "source": [
    "# YEAR COLUMN"
   ]
  },
  {
   "cell_type": "markdown",
   "id": "5fffa4da",
   "metadata": {},
   "source": [
    "<b>Convert the year column to Datetime<b>"
   ]
  },
  {
   "cell_type": "code",
   "execution_count": 31,
   "id": "d2e8efc1",
   "metadata": {},
   "outputs": [],
   "source": [
    "df_startup['Year']=pd.to_datetime(df_startup.Year)"
   ]
  },
  {
   "cell_type": "code",
   "execution_count": 32,
   "id": "06b22eb2",
   "metadata": {},
   "outputs": [],
   "source": [
    "# Convert the datetime column to year\n",
    "df_startup['Year'] = df_startup['Year'].dt.year\n"
   ]
  },
  {
   "cell_type": "markdown",
   "id": "01ba857b",
   "metadata": {},
   "source": [
    "# INVESTOR COLUMN"
   ]
  },
  {
   "cell_type": "code",
   "execution_count": 33,
   "id": "94968bee",
   "metadata": {},
   "outputs": [],
   "source": [
    "# There are lots of NaN entries in this column. Majority of which is attributable to the 2018 dataset, which had no information on Investors."
   ]
  },
  {
   "cell_type": "code",
   "execution_count": 34,
   "id": "39b21378",
   "metadata": {},
   "outputs": [],
   "source": [
    "# We input undisclosed in place for NaN in the investor column.\n",
    "\n",
    "df_startup.Investor.fillna('Undisclosed', inplace=True)"
   ]
  },
  {
   "cell_type": "code",
   "execution_count": 35,
   "id": "cea08766",
   "metadata": {},
   "outputs": [
    {
     "data": {
      "text/html": [
       "<button type=\"button\" class = \"st-collapsible\", \n",
       "    id = \"btn-7866\" onclick = \"coll_toggle_7866()\">Show Summary - df_startup</button>\n",
       "    <div class=\"st-content\" id=\"cont-7866\">\n",
       "      <style type=\"text/css\">\n",
       "#T_4ce8c thead>tr>th {\n",
       "  text-align: left;\n",
       "}\n",
       "#T_4ce8c_row0_col0, #T_4ce8c_row1_col0, #T_4ce8c_row2_col0, #T_4ce8c_row3_col0, #T_4ce8c_row4_col0, #T_4ce8c_row5_col0, #T_4ce8c_row6_col0 {\n",
       "  text-align: left;\n",
       "  font-size: 12px;\n",
       "  vertical-align: middle;\n",
       "  width: 5%;\n",
       "  max-width: 50px;\n",
       "  min-width: 20px;\n",
       "}\n",
       "#T_4ce8c_row0_col1, #T_4ce8c_row1_col1, #T_4ce8c_row2_col1, #T_4ce8c_row3_col1, #T_4ce8c_row4_col1, #T_4ce8c_row5_col1, #T_4ce8c_row6_col1 {\n",
       "  text-align: left;\n",
       "  font-size: 12px;\n",
       "  vertical-align: middle;\n",
       "  width: 15%;\n",
       "  max-width: 200px;\n",
       "  min-width: 100px;\n",
       "  word-break: break-word;\n",
       "}\n",
       "#T_4ce8c_row0_col2, #T_4ce8c_row1_col2, #T_4ce8c_row2_col2, #T_4ce8c_row3_col2, #T_4ce8c_row4_col2, #T_4ce8c_row5_col2, #T_4ce8c_row6_col2 {\n",
       "  text-align: left;\n",
       "  font-size: 12px;\n",
       "  vertical-align: middle;\n",
       "  width: 30%;\n",
       "  min-width: 100px;\n",
       "}\n",
       "#T_4ce8c_row0_col3, #T_4ce8c_row1_col3, #T_4ce8c_row2_col3, #T_4ce8c_row3_col3, #T_4ce8c_row4_col3, #T_4ce8c_row5_col3, #T_4ce8c_row6_col3 {\n",
       "  text-align: left;\n",
       "  font-size: 12px;\n",
       "  vertical-align: middle;\n",
       "  width: 25%;\n",
       "  min-width: 100px;\n",
       "}\n",
       "#T_4ce8c_row0_col4, #T_4ce8c_row1_col4, #T_4ce8c_row2_col4, #T_4ce8c_row3_col4, #T_4ce8c_row4_col4, #T_4ce8c_row5_col4, #T_4ce8c_row6_col4 {\n",
       "  text-align: left;\n",
       "  font-size: 12px;\n",
       "  vertical-align: middle;\n",
       "  width: 20%;\n",
       "  min-width: 150px;\n",
       "}\n",
       "#T_4ce8c_row0_col5, #T_4ce8c_row1_col5, #T_4ce8c_row2_col5, #T_4ce8c_row3_col5, #T_4ce8c_row4_col5, #T_4ce8c_row5_col5, #T_4ce8c_row6_col5 {\n",
       "  text-align: left;\n",
       "  font-size: 12px;\n",
       "  vertical-align: middle;\n",
       "  width: 10%;\n",
       "}\n",
       "</style>\n",
       "<table id=\"T_4ce8c\">\n",
       "  <caption><strong>Data Frame Summary</strong><br>df_startup<br>Dimensions: 2,785 x 7<br>Duplicates: 1</caption>\n",
       "  <thead>\n",
       "    <tr>\n",
       "      <th id=\"T_4ce8c_level0_col0\" class=\"col_heading level0 col0\" >No</th>\n",
       "      <th id=\"T_4ce8c_level0_col1\" class=\"col_heading level0 col1\" >Variable</th>\n",
       "      <th id=\"T_4ce8c_level0_col2\" class=\"col_heading level0 col2\" >Stats / Values</th>\n",
       "      <th id=\"T_4ce8c_level0_col3\" class=\"col_heading level0 col3\" >Freqs / (% of Valid)</th>\n",
       "      <th id=\"T_4ce8c_level0_col4\" class=\"col_heading level0 col4\" >Graph</th>\n",
       "      <th id=\"T_4ce8c_level0_col5\" class=\"col_heading level0 col5\" >Missing</th>\n",
       "    </tr>\n",
       "  </thead>\n",
       "  <tbody>\n",
       "    <tr>\n",
       "      <td id=\"T_4ce8c_row0_col0\" class=\"data row0 col0\" >1</td>\n",
       "      <td id=\"T_4ce8c_row0_col1\" class=\"data row0 col1\" ><strong>Company/Brand</strong><br>[object]</td>\n",
       "      <td id=\"T_4ce8c_row0_col2\" class=\"data row0 col2\" >1. BharatPe<br>2. Zomato<br>3. Spinny<br>4. Trell<br>5. Nykaa<br>6. Zetwerk<br>7. Vedantu<br>8. Jumbotail<br>9. Teachmint<br>10. Slice<br>11. other</td>\n",
       "      <td id=\"T_4ce8c_row0_col3\" class=\"data row0 col3\" >10 (0.4%)<br>7 (0.3%)<br>6 (0.2%)<br>6 (0.2%)<br>6 (0.2%)<br>6 (0.2%)<br>6 (0.2%)<br>5 (0.2%)<br>5 (0.2%)<br>5 (0.2%)<br>2,723 (97.8%)</td>\n",
       "      <td id=\"T_4ce8c_row0_col4\" class=\"data row0 col4\" ><img src = \"tmp\\df_startup_000.png\"></img></td>\n",
       "      <td id=\"T_4ce8c_row0_col5\" class=\"data row0 col5\" >0<br>(0.0%)</td>\n",
       "    </tr>\n",
       "    <tr>\n",
       "      <td id=\"T_4ce8c_row1_col0\" class=\"data row1 col0\" >2</td>\n",
       "      <td id=\"T_4ce8c_row1_col1\" class=\"data row1 col1\" ><strong>Stage</strong><br>[object]</td>\n",
       "      <td id=\"T_4ce8c_row1_col2\" class=\"data row1 col2\" >1. Undisclosed<br>2. Seed<br>3. Series A<br>4. Pre-series A<br>5. Series B<br>6. Series C<br>7. Pre series A<br>8. Pre Seed<br>9. Debt<br>10. Series D<br>11. other</td>\n",
       "      <td id=\"T_4ce8c_row1_col3\" class=\"data row1 col3\" >938 (33.7%)<br>672 (24.1%)<br>300 (10.8%)<br>207 (7.4%)<br>130 (4.7%)<br>109 (3.9%)<br>62 (2.2%)<br>58 (2.1%)<br>55 (2.0%)<br>50 (1.8%)<br>204 (7.3%)</td>\n",
       "      <td id=\"T_4ce8c_row1_col4\" class=\"data row1 col4\" ><img src = \"tmp\\df_startup_001.png\"></img></td>\n",
       "      <td id=\"T_4ce8c_row1_col5\" class=\"data row1 col5\" >0<br>(0.0%)</td>\n",
       "    </tr>\n",
       "    <tr>\n",
       "      <td id=\"T_4ce8c_row2_col0\" class=\"data row2 col0\" >3</td>\n",
       "      <td id=\"T_4ce8c_row2_col1\" class=\"data row2 col1\" ><strong>Amount($)</strong><br>[float64]</td>\n",
       "      <td id=\"T_4ce8c_row2_col2\" class=\"data row2 col2\" >Mean (sd) : 2696880469.0 (38964511037.3)<br>min < med < max:<br>9.6 < 4000000.0 < 1362800000000.0<br>IQR (CV) : 19000000.0 (0.1)</td>\n",
       "      <td id=\"T_4ce8c_row2_col3\" class=\"data row2 col3\" >503 distinct values</td>\n",
       "      <td id=\"T_4ce8c_row2_col4\" class=\"data row2 col4\" ><img src = \"tmp\\df_startup_002.png\"></img></td>\n",
       "      <td id=\"T_4ce8c_row2_col5\" class=\"data row2 col5\" >538<br>(19.3%)</td>\n",
       "    </tr>\n",
       "    <tr>\n",
       "      <td id=\"T_4ce8c_row3_col0\" class=\"data row3 col0\" >4</td>\n",
       "      <td id=\"T_4ce8c_row3_col1\" class=\"data row3 col1\" ><strong>Year</strong><br>[int64]</td>\n",
       "      <td id=\"T_4ce8c_row3_col2\" class=\"data row3 col2\" >1. FinTech<br>2. EdTech<br>3. Financial Services<br>4. Healthcare<br>5. E-commerce<br>6. Information Technology<br>7. Food & Beverages<br>8. AgriTech<br>9. Healthtech<br>10. Tech Startup<br>11. other</td>\n",
       "      <td id=\"T_4ce8c_row3_col3\" class=\"data row3 col3\" >253 (9.1%)<br>218 (7.8%)<br>152 (5.5%)<br>138 (5.0%)<br>123 (4.4%)<br>95 (3.4%)<br>63 (2.3%)<br>63 (2.3%)<br>59 (2.1%)<br>59 (2.1%)<br>1,562 (56.1%)</td>\n",
       "      <td id=\"T_4ce8c_row3_col4\" class=\"data row3 col4\" ><img src = \"tmp\\df_startup_004.png\"></img></td>\n",
       "      <td id=\"T_4ce8c_row3_col5\" class=\"data row3 col5\" >0<br>(0.0%)</td>\n",
       "    </tr>\n",
       "    <tr>\n",
       "      <td id=\"T_4ce8c_row4_col0\" class=\"data row4 col0\" >5</td>\n",
       "      <td id=\"T_4ce8c_row4_col1\" class=\"data row4 col1\" ><strong>Sector</strong><br>[object]</td>\n",
       "      <td id=\"T_4ce8c_row4_col2\" class=\"data row4 col2\" >1. Bengaluru<br>2. Mumbai<br>3. Delhi<br>4. Gurugram<br>5. nan<br>6. Chennai<br>7. Pune<br>8. Noida<br>9. Gurgaon<br>10. Hyderabad<br>11. other</td>\n",
       "      <td id=\"T_4ce8c_row4_col3\" class=\"data row4 col3\" >916 (32.9%)<br>467 (16.8%)<br>316 (11.3%)<br>237 (8.5%)<br>114 (4.1%)<br>107 (3.8%)<br>103 (3.7%)<br>85 (3.1%)<br>80 (2.9%)<br>77 (2.8%)<br>283 (10.2%)</td>\n",
       "      <td id=\"T_4ce8c_row4_col4\" class=\"data row4 col4\" ><img src = \"tmp\\df_startup_005.png\"></img></td>\n",
       "      <td id=\"T_4ce8c_row4_col5\" class=\"data row4 col5\" >18<br>(0.6%)</td>\n",
       "    </tr>\n",
       "    <tr>\n",
       "      <td id=\"T_4ce8c_row5_col0\" class=\"data row5 col0\" >6</td>\n",
       "      <td id=\"T_4ce8c_row5_col1\" class=\"data row5 col1\" ><strong>HeadQuarter</strong><br>[object]</td>\n",
       "      <td id=\"T_4ce8c_row5_col2\" class=\"data row5 col2\" >1. Undisclosed<br>2. Inflection Point Ventures<br>3. Venture Catalysts<br>4. Mumbai Angels Network<br>5. Angel investors<br>6. Tiger Global<br>7. Titan Capital<br>8. Unicorn India Ventures<br>9. Better Capital<br>10. Alteria Capital<br>11. other</td>\n",
       "      <td id=\"T_4ce8c_row5_col3\" class=\"data row5 col3\" >629 (22.6%)<br>34 (1.2%)<br>32 (1.1%)<br>17 (0.6%)<br>15 (0.5%)<br>12 (0.4%)<br>11 (0.4%)<br>10 (0.4%)<br>9 (0.3%)<br>9 (0.3%)<br>2,007 (72.1%)</td>\n",
       "      <td id=\"T_4ce8c_row5_col4\" class=\"data row5 col4\" ><img src = \"tmp\\df_startup_006.png\"></img></td>\n",
       "      <td id=\"T_4ce8c_row5_col5\" class=\"data row5 col5\" >114<br>(4.1%)</td>\n",
       "    </tr>\n",
       "    <tr>\n",
       "      <td id=\"T_4ce8c_row6_col0\" class=\"data row6 col0\" >7</td>\n",
       "      <td id=\"T_4ce8c_row6_col1\" class=\"data row6 col1\" ><strong>Investor</strong><br>[object]</td>\n",
       "      <td id=\"T_4ce8c_row6_col2\" class=\"data row6 col2\" >nan</td>\n",
       "      <td id=\"T_4ce8c_row6_col3\" class=\"data row6 col3\" >nan</td>\n",
       "      <td id=\"T_4ce8c_row6_col4\" class=\"data row6 col4\" >nan</td>\n",
       "      <td id=\"T_4ce8c_row6_col5\" class=\"data row6 col5\" >0<br>(0.0%)</td>\n",
       "    </tr>\n",
       "  </tbody>\n",
       "</table>\n",
       "\n",
       "    </div>\n",
       "    <style>\n",
       "    .st-collapsible {\n",
       "      background-color: #eee;\n",
       "      color: #444;\n",
       "      cursor: pointer;\n",
       "      padding: 10px;\n",
       "      width: 100%;\n",
       "      border: none;\n",
       "      text-align: left;\n",
       "      outline: none;\n",
       "      font-size: 14px;\n",
       "      border-radius: 0.5rem;\n",
       "    }\n",
       "\n",
       "    .active .st-collapsible:hover {\n",
       "      background-color: #ccc;\n",
       "    }\n",
       "\n",
       "    .st-content {\n",
       "      padding: 0 10px;\n",
       "      background-color: white;\n",
       "      max-height: 0;\n",
       "      overflow: hidden;\n",
       "      transition: max-height 0.2s ease-out;\n",
       "    }\n",
       "\n",
       "    .st-collapsible:after {\n",
       "      content: '+'; /* Unicode character for \"plus\" sign (+) */\n",
       "      color: #444;\n",
       "      font-weight: bold;\n",
       "      float: right;\n",
       "      margin-left: 5px;\n",
       "    }\n",
       "\n",
       "    .active:after {\n",
       "      content: '-';\n",
       "    }\n",
       "    </style><script>\n",
       "    function coll_toggle_7866(){\n",
       "        var coll = document.getElementById(\"btn-7866\");\n",
       "        var content = document.getElementById(\"cont-7866\");\n",
       "        coll.classList.toggle(\"active\");\n",
       "        if (content.style.maxHeight){\n",
       "          content.style.maxHeight = null;\n",
       "          coll.innerHTML = \"Show Summary - df_startup\";\n",
       "        } else {\n",
       "          content.style.maxHeight = content.scrollHeight + \"px\";\n",
       "          coll.innerHTML = \"Hide Summary - df_startup\";\n",
       "        }\n",
       "    }  \n",
       "\n",
       "    </script>"
      ],
      "text/plain": [
       "<IPython.core.display.HTML object>"
      ]
     },
     "execution_count": 35,
     "metadata": {},
     "output_type": "execute_result"
    }
   ],
   "source": [
    "dfSummary(df_startup, is_collapsible = True)"
   ]
  },
  {
   "cell_type": "markdown",
   "id": "49b89e8b",
   "metadata": {},
   "source": [
    "# UNIVARIATE ANALYSIS"
   ]
  },
  {
   "cell_type": "code",
   "execution_count": 36,
   "id": "f2f68a3e",
   "metadata": {},
   "outputs": [
    {
     "data": {
      "text/plain": [
       "count            2247.0000\n",
       "mean       2696880468.9572\n",
       "std       38964511037.3325\n",
       "min                 9.6000\n",
       "25%           1000000.0000\n",
       "50%           4000000.0000\n",
       "75%          20000000.0000\n",
       "max     1362800000000.0000\n",
       "Name: Amount($), dtype: float64"
      ]
     },
     "execution_count": 36,
     "metadata": {},
     "output_type": "execute_result"
    }
   ],
   "source": [
    "df_startup['Amount($)'].describe()"
   ]
  },
  {
   "cell_type": "markdown",
   "id": "83fe854e",
   "metadata": {},
   "source": [
    "# ANALYSIS-ANSWERING THE QUESTIONS AS PUT TO THE DATA"
   ]
  },
  {
   "cell_type": "markdown",
   "id": "cbca6367",
   "metadata": {},
   "source": [
    "<b>Q1:What is the funding trend in the Indian start-up ecosystem over the past few years?<b>\n",
    "    \n",
    "The purpose of this question is to understand the trend in funding patterns from 2018 to 2021 in the Startup Ecosystem. Is the trajectory showing an decreasing in funding, an increase or a stagnation. \n",
    " "
   ]
  },
  {
   "cell_type": "code",
   "execution_count": 37,
   "id": "1fc2b6e7",
   "metadata": {},
   "outputs": [],
   "source": [
    "funding_by_year = df_startup.groupby('Year')['Amount($)'].sum().apply(lambda x: '${:,.2f}'.format(x))\n",
    "df_funding_by_year = pd.DataFrame({'Year': funding_by_year.index, 'Amount($)': funding_by_year.values})\n",
    "df_funding_by_year\n",
    "df_funding_by_year['Amount($)'] = df_funding_by_year['Amount($)'].apply(lambda x: float(x.replace(',', '').replace('$', '')))"
   ]
  },
  {
   "cell_type": "markdown",
   "id": "46e8858b",
   "metadata": {},
   "source": [
    "<b>Visualization<b>"
   ]
  },
  {
   "cell_type": "code",
   "execution_count": 38,
   "id": "df2f19e6",
   "metadata": {
    "scrolled": true
   },
   "outputs": [
    {
     "data": {
      "image/png": "[encoded data removed]",
      "text/plain": [
       "<Figure size 700x300 with 1 Axes>"
      ]
     },
     "metadata": {},
     "output_type": "display_data"
    }
   ],
   "source": [
    "sns.set_style(style='whitegrid')\n",
    "plt.figure(figsize=(7, 3))\n",
    "plt.title('Total Funding Raised')\n",
    "sns.barplot(x='Year', y='Amount($)', palette='dark', data=df_funding_by_year, hue='Year')\n",
    "plt.show()"
   ]
  },
  {
   "cell_type": "markdown",
   "id": "9c3fe783",
   "metadata": {},
   "source": [
    "<b>Q2:-Which sectors have received the most funding year on year?<b>\n",
    "    \n",
    "This question seeks to understand the distribution of funding by sector inside a given year. There are a plethora of sectors in the startup ecosystem, we want to understand which industries are receiving the most funding."
   ]
  },
  {
   "cell_type": "code",
   "execution_count": 39,
   "id": "022fb523",
   "metadata": {},
   "outputs": [
    {
     "name": "stdout",
     "output_type": "stream",
     "text": [
      "2018: Financial Services\n",
      "2019: EdTech\n",
      "2020: Retail\n",
      "2021: FinTech\n"
     ]
    }
   ],
   "source": [
    "funding_by_year_sector = df_startup.groupby(['Year','Sector'])['Amount($)'].sum()\n",
    "\n",
    "funding_by_year_sector = funding_by_year_sector.groupby('Year').idxmax()\n",
    "\n",
    "for year, sector in funding_by_year_sector.items():\n",
    "   print(f\"{year}: {sector[1]}\")"
   ]
  },
  {
   "cell_type": "markdown",
   "id": "a4da87a6",
   "metadata": {},
   "source": [
    "<b>Q3:Who are the top investors and what initiatives do they typically invest in?<b>\n",
    "    \n",
    "As investors ourselves, we wwant to understand who are the top players on the scene. We also seek to understand \n",
    "the sectors they invest in, this will help us decide which sectors to either invest in or not."
   ]
  },
  {
   "cell_type": "code",
   "execution_count": 40,
   "id": "c000ecdf",
   "metadata": {},
   "outputs": [
    {
     "data": {
      "text/html": [
       "<div>\n",
       "<style scoped>\n",
       "    .dataframe tbody tr th:only-of-type {\n",
       "        vertical-align: middle;\n",
       "    }\n",
       "\n",
       "    .dataframe tbody tr th {\n",
       "        vertical-align: top;\n",
       "    }\n",
       "\n",
       "    .dataframe thead th {\n",
       "        text-align: right;\n",
       "    }\n",
       "</style>\n",
       "<table border=\"1\" class=\"dataframe\">\n",
       "  <thead>\n",
       "    <tr style=\"text-align: right;\">\n",
       "      <th></th>\n",
       "      <th>Investor</th>\n",
       "      <th>Sector</th>\n",
       "      <th>Amount($)</th>\n",
       "    </tr>\n",
       "  </thead>\n",
       "  <tbody>\n",
       "    <tr>\n",
       "      <th>1900</th>\n",
       "      <td>Undisclosed</td>\n",
       "      <td>Financial Services</td>\n",
       "      <td>2387403030000.0000</td>\n",
       "    </tr>\n",
       "    <tr>\n",
       "      <th>1816</th>\n",
       "      <td>Undisclosed</td>\n",
       "      <td>Aerospace</td>\n",
       "      <td>1362800000000.0000</td>\n",
       "    </tr>\n",
       "    <tr>\n",
       "      <th>1954</th>\n",
       "      <td>Undisclosed</td>\n",
       "      <td>Tech Startup</td>\n",
       "      <td>208532137000.0000</td>\n",
       "    </tr>\n",
       "    <tr>\n",
       "      <th>1880</th>\n",
       "      <td>Undisclosed</td>\n",
       "      <td>E-commerce</td>\n",
       "      <td>205326025000.0000</td>\n",
       "    </tr>\n",
       "    <tr>\n",
       "      <th>1817</th>\n",
       "      <td>Undisclosed</td>\n",
       "      <td>AgTech</td>\n",
       "      <td>170350000000.0000</td>\n",
       "    </tr>\n",
       "  </tbody>\n",
       "</table>\n",
       "</div>"
      ],
      "text/plain": [
       "         Investor              Sector          Amount($)\n",
       "1900  Undisclosed  Financial Services 2387403030000.0000\n",
       "1816  Undisclosed           Aerospace 1362800000000.0000\n",
       "1954  Undisclosed        Tech Startup  208532137000.0000\n",
       "1880  Undisclosed          E-commerce  205326025000.0000\n",
       "1817  Undisclosed              AgTech  170350000000.0000"
      ]
     },
     "execution_count": 40,
     "metadata": {},
     "output_type": "execute_result"
    }
   ],
   "source": [
    "funding_by_investor = df_startup.groupby(['Investor','Sector'])['Amount($)'].sum().reset_index()\n",
    "sorted_funding_by_investor = funding_by_investor.sort_values(by='Amount($)', ascending=False)\n",
    "top_investors = sorted_funding_by_investor.head(5)\n",
    "#top_investors['Amount($)'] = top_investors['Amount($)'].apply(lambda x: '${:,.2f}'.format(x))\n",
    "top_investors"
   ]
  },
  {
   "cell_type": "markdown",
   "id": "6dafa8e5",
   "metadata": {},
   "source": [
    "<b>Visualizing question 3<b>"
   ]
  },
  {
   "cell_type": "code",
   "execution_count": 41,
   "id": "d146507c",
   "metadata": {
    "scrolled": false
   },
   "outputs": [
    {
     "data": {
      "image/png": "[encoded data removed]",
      "text/plain": [
       "<Figure size 700x400 with 1 Axes>"
      ]
     },
     "metadata": {},
     "output_type": "display_data"
    }
   ],
   "source": [
    "plt.figure(figsize=(7,4))\n",
    "plt.title('Top 5 Investors by Funding Amount')\n",
    "sns.set_style(style='whitegrid')\n",
    "top_investors['Amount($)'] = pd.to_numeric(top_investors['Amount($)'])\n",
    "sns.barplot(x='Amount($)',y='Investor', palette='Blues_d', data=top_investors, orient='h')\n",
    "plt.show()"
   ]
  },
  {
   "cell_type": "markdown",
   "id": "3378018a",
   "metadata": {},
   "source": [
    "<b>CAVEAT:There is a huge entry of undisclosed in the investor column. This has to be disaggregated to get a better understanding of the breakdown of the investors in the Ecosystem.<b>"
   ]
  },
  {
   "cell_type": "markdown",
   "id": "5bb6d135",
   "metadata": {},
   "source": [
    "<b>Q4:Where are the Startups located?<b>"
   ]
  },
  {
   "cell_type": "code",
   "execution_count": 42,
   "id": "b81c9db2",
   "metadata": {},
   "outputs": [
    {
     "data": {
      "text/html": [
       "<div>\n",
       "<style scoped>\n",
       "    .dataframe tbody tr th:only-of-type {\n",
       "        vertical-align: middle;\n",
       "    }\n",
       "\n",
       "    .dataframe tbody tr th {\n",
       "        vertical-align: top;\n",
       "    }\n",
       "\n",
       "    .dataframe thead th {\n",
       "        text-align: right;\n",
       "    }\n",
       "</style>\n",
       "<table border=\"1\" class=\"dataframe\">\n",
       "  <thead>\n",
       "    <tr style=\"text-align: right;\">\n",
       "      <th></th>\n",
       "      <th>HeadQuarter</th>\n",
       "      <th>Number_of_firms</th>\n",
       "    </tr>\n",
       "  </thead>\n",
       "  <tbody>\n",
       "    <tr>\n",
       "      <th>10</th>\n",
       "      <td>Bengaluru</td>\n",
       "      <td>916</td>\n",
       "    </tr>\n",
       "    <tr>\n",
       "      <th>55</th>\n",
       "      <td>Mumbai</td>\n",
       "      <td>467</td>\n",
       "    </tr>\n",
       "    <tr>\n",
       "      <th>20</th>\n",
       "      <td>Delhi</td>\n",
       "      <td>316</td>\n",
       "    </tr>\n",
       "    <tr>\n",
       "      <th>31</th>\n",
       "      <td>Gurugram</td>\n",
       "      <td>237</td>\n",
       "    </tr>\n",
       "    <tr>\n",
       "      <th>16</th>\n",
       "      <td>Chennai</td>\n",
       "      <td>107</td>\n",
       "    </tr>\n",
       "  </tbody>\n",
       "</table>\n",
       "</div>"
      ],
      "text/plain": [
       "   HeadQuarter  Number_of_firms\n",
       "10   Bengaluru              916\n",
       "55      Mumbai              467\n",
       "20       Delhi              316\n",
       "31    Gurugram              237\n",
       "16     Chennai              107"
      ]
     },
     "execution_count": 42,
     "metadata": {},
     "output_type": "execute_result"
    }
   ],
   "source": [
    "startup_location = df_startup.groupby(['HeadQuarter'])['Company/Brand'].count().reset_index(name='Number_of_firms')\n",
    "startup_location = startup_location.sort_values(by='Number_of_firms', ascending=False).head(5)\n",
    "\n",
    "startup_location"
   ]
  },
  {
   "cell_type": "markdown",
   "id": "c2d7a2d1",
   "metadata": {},
   "source": [
    "<b>Visualizing 4<b>"
   ]
  },
  {
   "cell_type": "code",
   "execution_count": 43,
   "id": "628bc8fd",
   "metadata": {},
   "outputs": [
    {
     "data": {
      "image/png": "[encoded data removed]",
      "text/plain": [
       "<Figure size 700x400 with 1 Axes>"
      ]
     },
     "metadata": {},
     "output_type": "display_data"
    }
   ],
   "source": [
    "plt.figure(figsize=(7,4))\n",
    "plt.title('Where are the startups located?')\n",
    "sns.set_style(style='whitegrid')\n",
    "sns.barplot(x='Number_of_firms',y='HeadQuarter', palette='dark', data=startup_location, orient='h',hue='HeadQuarter')\n",
    "plt.show()"
   ]
  },
  {
   "cell_type": "markdown",
   "id": "b573bcc8",
   "metadata": {},
   "source": [
    "<b>Q5:Which location has raised the most money?<b>\n",
    "    \n",
    "Here we want to understand whether there is clustering effect in the ecosystem. That is whether startups in the same industry locate in the same cities and why they do so?\n",
    "\n"
   ]
  },
  {
   "cell_type": "code",
   "execution_count": 44,
   "id": "5678b6a6",
   "metadata": {},
   "outputs": [
    {
     "data": {
      "text/html": [
       "<div>\n",
       "<style scoped>\n",
       "    .dataframe tbody tr th:only-of-type {\n",
       "        vertical-align: middle;\n",
       "    }\n",
       "\n",
       "    .dataframe tbody tr th {\n",
       "        vertical-align: top;\n",
       "    }\n",
       "\n",
       "    .dataframe thead th {\n",
       "        text-align: right;\n",
       "    }\n",
       "</style>\n",
       "<table border=\"1\" class=\"dataframe\">\n",
       "  <thead>\n",
       "    <tr style=\"text-align: right;\">\n",
       "      <th></th>\n",
       "      <th>HeadQuarter</th>\n",
       "      <th>Total_Raised</th>\n",
       "    </tr>\n",
       "  </thead>\n",
       "  <tbody>\n",
       "    <tr>\n",
       "      <th>55</th>\n",
       "      <td>Mumbai</td>\n",
       "      <td>$1,638,800,028,042.23</td>\n",
       "    </tr>\n",
       "    <tr>\n",
       "      <th>33</th>\n",
       "      <td>Haryana</td>\n",
       "      <td>$1,405,119,729,800.00</td>\n",
       "    </tr>\n",
       "    <tr>\n",
       "      <th>20</th>\n",
       "      <td>Delhi</td>\n",
       "      <td>$1,077,995,225,209.60</td>\n",
       "    </tr>\n",
       "    <tr>\n",
       "      <th>10</th>\n",
       "      <td>Bengaluru</td>\n",
       "      <td>$905,385,324,604.00</td>\n",
       "    </tr>\n",
       "    <tr>\n",
       "      <th>38</th>\n",
       "      <td>Jaipur</td>\n",
       "      <td>$381,403,875,000.00</td>\n",
       "    </tr>\n",
       "  </tbody>\n",
       "</table>\n",
       "</div>"
      ],
      "text/plain": [
       "   HeadQuarter           Total_Raised\n",
       "55      Mumbai  $1,638,800,028,042.23\n",
       "33     Haryana  $1,405,119,729,800.00\n",
       "20       Delhi  $1,077,995,225,209.60\n",
       "10   Bengaluru    $905,385,324,604.00\n",
       "38      Jaipur    $381,403,875,000.00"
      ]
     },
     "execution_count": 44,
     "metadata": {},
     "output_type": "execute_result"
    }
   ],
   "source": [
    "funds_by_location = df_startup.groupby(['HeadQuarter'])['Amount($)'].sum().reset_index(name='Total_Raised')\n",
    "funds_by_location = funds_by_location.sort_values(by='Total_Raised', ascending=False).head(5)\n",
    "funds_by_location['Total_Raised'] = funds_by_location['Total_Raised'].apply(lambda x: '${:,.2f}'.format(x))\n",
    "\n",
    "funds_by_location"
   ]
  },
  {
   "cell_type": "markdown",
   "id": "9d7c965e",
   "metadata": {},
   "source": [
    "<b>Visualizing Q5<b>"
   ]
  },
  {
   "cell_type": "code",
   "execution_count": 45,
   "id": "1b4adbf9",
   "metadata": {},
   "outputs": [
    {
     "data": {
      "image/png": "[encoded data removed]",
      "text/plain": [
       "<Figure size 700x400 with 1 Axes>"
      ]
     },
     "metadata": {},
     "output_type": "display_data"
    }
   ],
   "source": [
    "plt.figure(figsize=(7,4))\n",
    "plt.title('Where did the money go?')\n",
    "sns.set_style(style='whitegrid')\n",
    "funds_by_location['Total_Raised'] = pd.to_numeric(funds_by_location['Total_Raised'].astype(str).str.replace('$', '').str.replace(',', ''))\n",
    "sns.barplot(x='Total_Raised',y='HeadQuarter', palette='dark', data=funds_by_location, orient='h',hue='HeadQuarter')\n",
    "plt.show()"
   ]
  },
  {
   "cell_type": "markdown",
   "id": "3cfc14db",
   "metadata": {},
   "source": [
    "# LIMITATIONS OF THE DATA"
   ]
  },
  {
   "cell_type": "markdown",
   "id": "818d0e27",
   "metadata": {},
   "source": [
    "-The volume of data available for the analysis is not consistent across all years. This introduces a skewness into the data as some years have lot of data points than others.\n",
    "\n",
    "-2018 dataset did not have an investor column, this affected analysis of the investor performance across the years.\n",
    "\n",
    "-The high number of unknowns in the dataset affected our ability to drill down into the activities of the investors."
   ]
  },
  {
   "cell_type": "code",
   "execution_count": 46,
   "id": "1bb7b8fc",
   "metadata": {},
   "outputs": [],
   "source": [
    "df_startup = df_startup.dropna()"
   ]
  },
  {
   "cell_type": "code",
   "execution_count": 47,
   "id": "b5951daf",
   "metadata": {},
   "outputs": [
    {
     "name": "stdout",
     "output_type": "stream",
     "text": [
      "F-statistic: 0.9288524308314621\n",
      "p-value: 0.64452014230159\n",
      "There is no significant difference between the groups.\n"
     ]
    }
   ],
   "source": [
    "# get the unique values in the 'headquarter' column\n",
    "headquarters = df_startup['HeadQuarter'].unique()\n",
    "\n",
    "# create a list to store the data for each group\n",
    "data = []\n",
    "\n",
    "# loop over the unique values and get the data for each group\n",
    "for hq in headquarters:\n",
    "    data.append(df_startup.loc[df_startup['HeadQuarter'] == hq, 'Amount($)'])\n",
    "\n",
    "# perform the ANOVA test\n",
    "f_statistic, p_value = f_oneway(*data)\n",
    "\n",
    "# print the results\n",
    "print('F-statistic:', f_statistic)\n",
    "print('p-value:', p_value)\n",
    "if p_value < 0.05:\n",
    "    print('There is a significant difference between the groups.')\n",
    "else:\n",
    "    print('There is no significant difference between the groups.')\n"
   ]
  },
  {
   "cell_type": "markdown",
   "id": "583d8bdf",
   "metadata": {},
   "source": [
    "<b>The hypothesis is rejected, that is the location of a startup has no influence on the amount of money it is able to raise.<b>"
   ]
  },
  {
   "cell_type": "code",
   "execution_count": null,
   "id": "61ac2a45",
   "metadata": {},
   "outputs": [],
   "source": []
  }
 ],
 "metadata": {
  "kernelspec": {
   "display_name": "Python 3 (ipykernel)",
   "language": "python",
   "name": "python3"
  },
  "language_info": {
   "codemirror_mode": {
    "name": "ipython",
    "version": 3
   },
   "file_extension": ".py",
   "mimetype": "text/x-python",
   "name": "python",
   "nbconvert_exporter": "python",
   "pygments_lexer": "ipython3",
   "version": "3.11.1"
  },
  "vscode": {
   "interpreter": {
    "hash": "5238573367df39f7286bb46f9ff5f08f63a01a80960060ce41e3c79b190280fa"
   }
  }
 },
 "nbformat": 4,
 "nbformat_minor": 5
}
